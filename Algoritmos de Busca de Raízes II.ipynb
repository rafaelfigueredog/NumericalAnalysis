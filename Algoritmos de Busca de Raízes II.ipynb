{
 "cells": [
  {
   "cell_type": "code",
   "execution_count": 68,
   "metadata": {},
   "outputs": [],
   "source": [
    "import scipy\n",
    "import numpy as np\n",
    "import scipy.optimize as opt\n",
    "import matplotlib.pyplot as plt\n",
    "import sys\n",
    "import warnings\n",
    "warnings.filterwarnings('ignore')\n",
    "%matplotlib inline"
   ]
  },
  {
   "cell_type": "code",
   "execution_count": 69,
   "metadata": {},
   "outputs": [],
   "source": [
    "def pontoFixo(funcao, xi, stop):\n",
    "    return opt.fixed_point(funcao, xi, maxiter=200, xtol = stop)"
   ]
  },
  {
   "cell_type": "code",
   "execution_count": 70,
   "metadata": {},
   "outputs": [],
   "source": [
    "def newtonRapson(f1, f2, xi, maxit):\n",
    "    return opt.root_scalar(f1, fprime=f2, x0=xi, method='newton', maxiter=maxit)"
   ]
  },
  {
   "cell_type": "code",
   "execution_count": 71,
   "metadata": {},
   "outputs": [],
   "source": [
    "def bissec(f, xl, xu, stop):\n",
    "    return opt.root_scalar(f,method='bisect',bracket=[xl,xu], rtol = stop, maxiter=200)"
   ]
  },
  {
   "cell_type": "code",
   "execution_count": 72,
   "metadata": {},
   "outputs": [],
   "source": [
    "def falsaPosicao(f, xl, xu, stop ):\n",
    "    \n",
    "    it = 0\n",
    "    \n",
    "    while(1):\n",
    "        \n",
    "        xr = xu - ( f(xu)*(xl - xu)/ (f(xl) - f(xu)) )\n",
    "        erro = abs( (xr-xu)/xr*100 )\n",
    "        it += 1\n",
    "        \n",
    "        if erro <= stop or it == 200:\n",
    "            break\n",
    "        \n",
    "        if (f(xl) * f(xr)) > 0:\n",
    "            \n",
    "            xl = xr\n",
    "\n",
    "        else: \n",
    "            xu = xr\n",
    "            \n",
    "        \n",
    "    return xr, it"
   ]
  },
  {
   "cell_type": "markdown",
   "metadata": {},
   "source": [
    "**6.1**"
   ]
  },
  {
   "cell_type": "code",
   "execution_count": 73,
   "metadata": {},
   "outputs": [],
   "source": [
    "def f(x):\n",
    "    return np.sin(np.sqrt(x)) - x"
   ]
  },
  {
   "cell_type": "code",
   "execution_count": 74,
   "metadata": {},
   "outputs": [
    {
     "data": {
      "text/plain": [
       "array(0.23130901)"
      ]
     },
     "execution_count": 74,
     "metadata": {},
     "output_type": "execute_result"
    }
   ],
   "source": [
    "pontoFixo(f, 0.5, 0.01)"
   ]
  },
  {
   "cell_type": "markdown",
   "metadata": {},
   "source": [
    "**6.2**"
   ]
  },
  {
   "cell_type": "code",
   "execution_count": 75,
   "metadata": {},
   "outputs": [],
   "source": [
    "def g(x):\n",
    "    return -0.9*x**2 + 1.7*x + 2.5"
   ]
  },
  {
   "cell_type": "code",
   "execution_count": 76,
   "metadata": {},
   "outputs": [
    {
     "data": {
      "text/plain": [
       "array(2.10025783)"
      ]
     },
     "execution_count": 76,
     "metadata": {},
     "output_type": "execute_result"
    }
   ],
   "source": [
    "pontoFixo(g, 0.5, 0.01)"
   ]
  },
  {
   "cell_type": "markdown",
   "metadata": {},
   "source": [
    "**6.11**"
   ]
  },
  {
   "cell_type": "code",
   "execution_count": 77,
   "metadata": {},
   "outputs": [
    {
     "data": {
      "text/plain": [
       "0.0"
      ]
     },
     "execution_count": 77,
     "metadata": {},
     "output_type": "execute_result"
    }
   ],
   "source": [
    "def k1(x):\n",
    "    return np.tanh(x**2-9)\n",
    "\n",
    "k1(3)"
   ]
  },
  {
   "cell_type": "code",
   "execution_count": 78,
   "metadata": {},
   "outputs": [
    {
     "data": {
      "text/plain": [
       "[<matplotlib.lines.Line2D at 0x7f578645ce10>]"
      ]
     },
     "execution_count": 78,
     "metadata": {},
     "output_type": "execute_result"
    },
    {
     "data": {
      "image/png": "[encoded data removed]",
      "text/plain": [
       "<Figure size 432x288 with 1 Axes>"
      ]
     },
     "metadata": {
      "needs_background": "light"
     },
     "output_type": "display_data"
    }
   ],
   "source": [
    "x = np.linspace(-100, 100, 1000)\n",
    "plt.plot(x, k1(x))"
   ]
  },
  {
   "cell_type": "code",
   "execution_count": 79,
   "metadata": {},
   "outputs": [],
   "source": [
    "from __future__ import division\n",
    "import sympy as sy\n",
    "x, y = sy.symbols('x y') #define x e y como variáveis simbólicas.\n",
    "\n",
    "def S(x):\n",
    "    return sy.tanh(x**2-9)\n"
   ]
  },
  {
   "cell_type": "code",
   "execution_count": 80,
   "metadata": {},
   "outputs": [
    {
     "data": {
      "text/latex": [
       "$\\displaystyle 2 x \\left(1 - \\tanh^{2}{\\left(x^{2} - 9 \\right)}\\right)$"
      ],
      "text/plain": [
       "2*x*(1 - tanh(x**2 - 9)**2)"
      ]
     },
     "execution_count": 80,
     "metadata": {},
     "output_type": "execute_result"
    }
   ],
   "source": [
    "sy.diff(S(x),x)"
   ]
  },
  {
   "cell_type": "code",
   "execution_count": 81,
   "metadata": {},
   "outputs": [],
   "source": [
    "# derivada de k1\n",
    "\n",
    "def k2(x): \n",
    "    return 2*x*(1 - (np.tanh(x**2-9))**2)\n",
    "    "
   ]
  },
  {
   "cell_type": "code",
   "execution_count": 82,
   "metadata": {},
   "outputs": [
    {
     "data": {
      "text/plain": [
       "      converged: False\n",
       "           flag: 'convergence error'\n",
       " function_calls: 6\n",
       "     iterations: 3\n",
       "           root: -256.41329077032356"
      ]
     },
     "execution_count": 82,
     "metadata": {},
     "output_type": "execute_result"
    }
   ],
   "source": [
    "newtonRapson(k1, k2, 3.2, 3)"
   ]
  },
  {
   "cell_type": "markdown",
   "metadata": {},
   "source": [
    "**6.16**"
   ]
  },
  {
   "cell_type": "code",
   "execution_count": 83,
   "metadata": {},
   "outputs": [],
   "source": [
    "def volume(h):\n",
    "    r = 2\n",
    "    L = 5\n",
    "    V = 8\n",
    "    return (r**2*(1/np.cos(r-h/r) - (r-h)*np.sqrt(2*r*h-h**2)) )*L"
   ]
  },
  {
   "cell_type": "code",
   "execution_count": 90,
   "metadata": {},
   "outputs": [
    {
     "data": {
      "image/png": "[encoded data removed]",
      "text/plain": [
       "<Figure size 432x288 with 1 Axes>"
      ]
     },
     "metadata": {
      "needs_background": "light"
     },
     "output_type": "display_data"
    }
   ],
   "source": [
    "h = np.linspace(-3, 3, 100)\n",
    "plt.plot(h, volume(h)) \n",
    "plt.grid(color='gray', linestyle='-', linewidth=0.3)"
   ]
  }
 ],
 "metadata": {
  "kernelspec": {
   "display_name": "Python 3",
   "language": "python",
   "name": "python3"
  },
  "language_info": {
   "codemirror_mode": {
    "name": "ipython",
    "version": 3
   },
   "file_extension": ".py",
   "mimetype": "text/x-python",
   "name": "python",
   "nbconvert_exporter": "python",
   "pygments_lexer": "ipython3",
   "version": "3.7.3"
  }
 },
 "nbformat": 4,
 "nbformat_minor": 2
}
