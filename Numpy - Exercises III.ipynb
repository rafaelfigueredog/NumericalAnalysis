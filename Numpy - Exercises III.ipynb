{
 "cells": [
  {
   "cell_type": "markdown",
   "metadata": {},
   "source": [
    "## Federal Institute of Paraiba - IFPB\n",
    "Rafael Figueredo Guimarães  \n",
    "Computer Engeneering  \n",
    "Numerical Methods - Exercises 3 - Numpy"
   ]
  },
  {
   "cell_type": "markdown",
   "metadata": {},
   "source": [
    "**1. Import the numpy package under the name np**"
   ]
  },
  {
   "cell_type": "code",
   "execution_count": 49,
   "metadata": {},
   "outputs": [],
   "source": [
    "import numpy as np"
   ]
  },
  {
   "cell_type": "markdown",
   "metadata": {},
   "source": [
    "**2. Print the numpy version and the configuration**"
   ]
  },
  {
   "cell_type": "code",
   "execution_count": 50,
   "metadata": {},
   "outputs": [
    {
     "data": {
      "text/plain": [
       "('1.16.4', <function numpy.__config__.show()>)"
      ]
     },
     "execution_count": 50,
     "metadata": {},
     "output_type": "execute_result"
    }
   ],
   "source": [
    "np.__version__, np.show_config"
   ]
  },
  {
   "cell_type": "markdown",
   "metadata": {},
   "source": [
    "**3. Create a null vector of size 10**"
   ]
  },
  {
   "cell_type": "code",
   "execution_count": 51,
   "metadata": {},
   "outputs": [
    {
     "data": {
      "text/plain": [
       "array([0., 0., 0., 0., 0., 0., 0., 0., 0., 0.])"
      ]
     },
     "execution_count": 51,
     "metadata": {},
     "output_type": "execute_result"
    }
   ],
   "source": [
    "np.zeros(10)"
   ]
  },
  {
   "cell_type": "markdown",
   "metadata": {},
   "source": [
    "**4. How to find the memory size of any array**"
   ]
  },
  {
   "cell_type": "code",
   "execution_count": 52,
   "metadata": {},
   "outputs": [
    {
     "name": "stdout",
     "output_type": "stream",
     "text": [
      "10\n",
      "8\n"
     ]
    }
   ],
   "source": [
    "a = np.zeros(10)\n",
    "print(np.size(a)) # Quantidade de elementos no array\n",
    "print(a.itemsize) # tamanho de um elemento do array em bytes"
   ]
  },
  {
   "cell_type": "markdown",
   "metadata": {},
   "source": [
    "**5. How to get the documentation of the numpy add function from the command line?**"
   ]
  },
  {
   "cell_type": "code",
   "execution_count": 53,
   "metadata": {},
   "outputs": [
    {
     "name": "stdout",
     "output_type": "stream",
     "text": [
      "class:  ndarray\n",
      "shape:  (10,)\n",
      "strides:  (8,)\n",
      "itemsize:  8\n",
      "aligned:  True\n",
      "contiguous:  True\n",
      "fortran:  True\n",
      "data pointer: 0x55e2430e1e80\n",
      "byteorder:  little\n",
      "byteswap:  False\n",
      "type: float64\n"
     ]
    }
   ],
   "source": [
    "np.info(a)"
   ]
  },
  {
   "cell_type": "markdown",
   "metadata": {},
   "source": [
    "**6. Create a null vector of size 10 but the fifth value which is 1**"
   ]
  },
  {
   "cell_type": "code",
   "execution_count": 54,
   "metadata": {},
   "outputs": [
    {
     "data": {
      "text/plain": [
       "array([0., 0., 0., 0., 1., 0., 0., 0., 0., 0.])"
      ]
     },
     "execution_count": 54,
     "metadata": {},
     "output_type": "execute_result"
    }
   ],
   "source": [
    "b = np.zeros(10)\n",
    "b[4] = 1\n",
    "b"
   ]
  },
  {
   "cell_type": "markdown",
   "metadata": {},
   "source": [
    "**7. Create a vector with values ranging from 10 to 49**"
   ]
  },
  {
   "cell_type": "code",
   "execution_count": 55,
   "metadata": {},
   "outputs": [
    {
     "data": {
      "text/plain": [
       "array([10, 11, 12, 13, 14, 15, 16, 17, 18, 19, 20, 21, 22, 23, 24, 25, 26,\n",
       "       27, 28, 29, 30, 31, 32, 33, 34, 35, 36, 37, 38, 39, 40, 41, 42, 43,\n",
       "       44, 45, 46, 47, 48, 49])"
      ]
     },
     "execution_count": 55,
     "metadata": {},
     "output_type": "execute_result"
    }
   ],
   "source": [
    "np.arange(10,50)"
   ]
  },
  {
   "cell_type": "markdown",
   "metadata": {},
   "source": [
    "**8. Reverse a vector (first element becomes last)**"
   ]
  },
  {
   "cell_type": "code",
   "execution_count": 56,
   "metadata": {},
   "outputs": [
    {
     "name": "stdout",
     "output_type": "stream",
     "text": [
      "[ 0  1  2  3  4  5  6  7  8  9 10]\n",
      "[10  9  8  7  6  5  4  3  2  1  0]\n"
     ]
    }
   ],
   "source": [
    "c = np.arange(11)\n",
    "print(c)\n",
    "print(c[::-1])"
   ]
  },
  {
   "cell_type": "markdown",
   "metadata": {},
   "source": [
    "**9. Create a 3x3 matrix with values ranging from 0 to 8**"
   ]
  },
  {
   "cell_type": "code",
   "execution_count": 57,
   "metadata": {},
   "outputs": [
    {
     "data": {
      "text/plain": [
       "array([[0, 1, 2],\n",
       "       [3, 4, 5],\n",
       "       [6, 7, 8]])"
      ]
     },
     "execution_count": 57,
     "metadata": {},
     "output_type": "execute_result"
    }
   ],
   "source": [
    "np.arange(9).reshape(3,3)"
   ]
  },
  {
   "cell_type": "markdown",
   "metadata": {},
   "source": [
    "**10. Find indices of non-zero elements from [1,2,0,0,4,0]**"
   ]
  },
  {
   "cell_type": "code",
   "execution_count": 58,
   "metadata": {},
   "outputs": [
    {
     "data": {
      "text/plain": [
       "(array([0, 1, 4]),)"
      ]
     },
     "execution_count": 58,
     "metadata": {},
     "output_type": "execute_result"
    }
   ],
   "source": [
    "d = np.array([1,2,0,0,4,0])\n",
    "np.nonzero(d) "
   ]
  },
  {
   "cell_type": "markdown",
   "metadata": {},
   "source": [
    "**11. Create a 3x3 identity matrix**"
   ]
  },
  {
   "cell_type": "code",
   "execution_count": 59,
   "metadata": {},
   "outputs": [
    {
     "data": {
      "text/plain": [
       "array([[1, 0, 0],\n",
       "       [0, 1, 0],\n",
       "       [0, 0, 1]])"
      ]
     },
     "execution_count": 59,
     "metadata": {},
     "output_type": "execute_result"
    }
   ],
   "source": [
    "np.eye(3, dtype=int)"
   ]
  },
  {
   "cell_type": "markdown",
   "metadata": {},
   "source": [
    "**12. Create a 3x3x3 array with random values**"
   ]
  },
  {
   "cell_type": "code",
   "execution_count": 60,
   "metadata": {},
   "outputs": [
    {
     "data": {
      "text/plain": [
       "array([[[0.40210046, 0.62391934, 0.96739995],\n",
       "        [0.67449389, 0.24278975, 0.19961134],\n",
       "        [0.11814429, 0.6921081 , 0.86477894]],\n",
       "\n",
       "       [[0.56725207, 0.35134224, 0.52418383],\n",
       "        [0.18141526, 0.74359525, 0.78355717],\n",
       "        [0.47185327, 0.03500381, 0.91314206]],\n",
       "\n",
       "       [[0.65092001, 0.11683432, 0.06087133],\n",
       "        [0.27603507, 0.16977621, 0.25813065],\n",
       "        [0.01301534, 0.7553366 , 0.84649906]]])"
      ]
     },
     "execution_count": 60,
     "metadata": {},
     "output_type": "execute_result"
    }
   ],
   "source": [
    "np.random.random_sample((3,3,3), )"
   ]
  },
  {
   "cell_type": "markdown",
   "metadata": {},
   "source": [
    "**13. Create a 10x10 array with random values and find the minimum and maximum values**"
   ]
  },
  {
   "cell_type": "code",
   "execution_count": 61,
   "metadata": {},
   "outputs": [],
   "source": [
    "i = np.arange(100).reshape(10,10)"
   ]
  },
  {
   "cell_type": "code",
   "execution_count": 62,
   "metadata": {},
   "outputs": [
    {
     "data": {
      "text/plain": [
       "(99, 0)"
      ]
     },
     "execution_count": 62,
     "metadata": {},
     "output_type": "execute_result"
    }
   ],
   "source": [
    "i.max(), i.min()"
   ]
  },
  {
   "cell_type": "markdown",
   "metadata": {},
   "source": [
    "**14. Create a random vector of size 30 and find the mean value**"
   ]
  },
  {
   "cell_type": "code",
   "execution_count": 63,
   "metadata": {},
   "outputs": [],
   "source": [
    "j = np.arange(1, 30)"
   ]
  },
  {
   "cell_type": "code",
   "execution_count": 64,
   "metadata": {},
   "outputs": [
    {
     "data": {
      "text/plain": [
       "15.0"
      ]
     },
     "execution_count": 64,
     "metadata": {},
     "output_type": "execute_result"
    }
   ],
   "source": [
    "j.mean()"
   ]
  },
  {
   "cell_type": "markdown",
   "metadata": {},
   "source": [
    "**15. Create a 2d array with 1 on the border and 0 inside (★☆☆)**"
   ]
  },
  {
   "cell_type": "code",
   "execution_count": 65,
   "metadata": {},
   "outputs": [],
   "source": [
    "h = np.ones(9, dtype = 'int').reshape(3,3)"
   ]
  },
  {
   "cell_type": "code",
   "execution_count": 66,
   "metadata": {},
   "outputs": [
    {
     "data": {
      "text/plain": [
       "array([[1, 1, 1],\n",
       "       [1, 0, 1],\n",
       "       [1, 1, 1]])"
      ]
     },
     "execution_count": 66,
     "metadata": {},
     "output_type": "execute_result"
    }
   ],
   "source": [
    "h[1:-1, 1:-1] = 0\n",
    "h"
   ]
  },
  {
   "cell_type": "markdown",
   "metadata": {},
   "source": [
    "**16. How to add a border (filled with 0's) around an existing array? (★☆☆)**"
   ]
  },
  {
   "cell_type": "code",
   "execution_count": 67,
   "metadata": {},
   "outputs": [
    {
     "data": {
      "text/plain": [
       "array([[0, 0, 0, 0, 0],\n",
       "       [0, 1, 1, 1, 0],\n",
       "       [0, 1, 0, 1, 0],\n",
       "       [0, 1, 1, 1, 0],\n",
       "       [0, 0, 0, 0, 0]])"
      ]
     },
     "execution_count": 67,
     "metadata": {},
     "output_type": "execute_result"
    }
   ],
   "source": [
    "def pad_with(vector, pad_width, iaxis, kwargs):\n",
    "...     pad_value = kwargs.get('padder', 10)\n",
    "...     vector[:pad_width[0]] = pad_value\n",
    "...     vector[-pad_width[1]:] = pad_value\n",
    "...     return vector\n",
    "np.pad(h, 1, pad_with, padder = 0)"
   ]
  },
  {
   "cell_type": "markdown",
   "metadata": {},
   "source": [
    "**17. What is the result of the following expression? (★☆☆)**"
   ]
  },
  {
   "cell_type": "code",
   "execution_count": 68,
   "metadata": {},
   "outputs": [
    {
     "data": {
      "text/plain": [
       "False"
      ]
     },
     "execution_count": 68,
     "metadata": {},
     "output_type": "execute_result"
    }
   ],
   "source": [
    "0 * np.nan # Nan\n",
    "np.nan == np.nan # True\n",
    "np.inf > np.nan # False\n",
    "np.nan - np.nan # nan\n",
    "np.nan in set([np.nan]) #True\n",
    "0.3 == 3 * 0.1 # False"
   ]
  },
  {
   "cell_type": "markdown",
   "metadata": {},
   "source": [
    "**18. Create a 5x5 matrix with values 1,2,3,4 just below the diagonal (★☆☆)**"
   ]
  },
  {
   "cell_type": "code",
   "execution_count": 69,
   "metadata": {},
   "outputs": [
    {
     "data": {
      "text/plain": [
       "array([[1, 0, 0, 0],\n",
       "       [0, 2, 0, 0],\n",
       "       [0, 0, 3, 0],\n",
       "       [0, 0, 0, 4]])"
      ]
     },
     "execution_count": 69,
     "metadata": {},
     "output_type": "execute_result"
    }
   ],
   "source": [
    "np.diagflat([[1,2], [3,4]])"
   ]
  },
  {
   "cell_type": "markdown",
   "metadata": {},
   "source": [
    "**19. Create a 8x8 matrix and fill it with a checkerboard pattern (★☆☆)**"
   ]
  },
  {
   "cell_type": "code",
   "execution_count": 70,
   "metadata": {},
   "outputs": [
    {
     "data": {
      "text/plain": [
       "array([[0, 1, 0, 1, 0, 1, 0, 1],\n",
       "       [1, 0, 1, 0, 1, 0, 1, 0],\n",
       "       [0, 1, 0, 1, 0, 1, 0, 1],\n",
       "       [1, 0, 1, 0, 1, 0, 1, 0],\n",
       "       [0, 1, 0, 1, 0, 1, 0, 1],\n",
       "       [1, 0, 1, 0, 1, 0, 1, 0],\n",
       "       [0, 1, 0, 1, 0, 1, 0, 1],\n",
       "       [1, 0, 1, 0, 1, 0, 1, 0]])"
      ]
     },
     "execution_count": 70,
     "metadata": {},
     "output_type": "execute_result"
    }
   ],
   "source": [
    "k = np.zeros((8,8),dtype=int)\n",
    "k[1::2,::2] = 1\n",
    "k[::2,1::2] = 1\n",
    "k"
   ]
  },
  {
   "cell_type": "markdown",
   "metadata": {},
   "source": [
    "**20. Consider a (6,7,8) shape array, what is the index (x,y,z) of the 100th element?**"
   ]
  },
  {
   "cell_type": "code",
   "execution_count": 71,
   "metadata": {},
   "outputs": [
    {
     "data": {
      "text/plain": [
       "(1, 5, 3)"
      ]
     },
     "execution_count": 71,
     "metadata": {},
     "output_type": "execute_result"
    }
   ],
   "source": [
    "np.unravel_index(99,(6,7,8))"
   ]
  },
  {
   "cell_type": "markdown",
   "metadata": {},
   "source": [
    "**21. Create a checkerboard 8x8 matrix using the tile function (★☆☆)**"
   ]
  },
  {
   "cell_type": "code",
   "execution_count": 72,
   "metadata": {},
   "outputs": [
    {
     "data": {
      "text/plain": [
       "array([[0, 1, 0, 1, 0, 1, 0, 1],\n",
       "       [1, 0, 1, 0, 1, 0, 1, 0],\n",
       "       [0, 1, 0, 1, 0, 1, 0, 1],\n",
       "       [1, 0, 1, 0, 1, 0, 1, 0],\n",
       "       [0, 1, 0, 1, 0, 1, 0, 1],\n",
       "       [1, 0, 1, 0, 1, 0, 1, 0],\n",
       "       [0, 1, 0, 1, 0, 1, 0, 1],\n",
       "       [1, 0, 1, 0, 1, 0, 1, 0]])"
      ]
     },
     "execution_count": 72,
     "metadata": {},
     "output_type": "execute_result"
    }
   ],
   "source": [
    "X = np.tile(np.array([[0,1],[1,0]]), (4,4))\n",
    "X"
   ]
  },
  {
   "cell_type": "markdown",
   "metadata": {},
   "source": [
    "**22. Normalize a 5x5 random matrix (★☆☆)**"
   ]
  },
  {
   "cell_type": "code",
   "execution_count": 73,
   "metadata": {},
   "outputs": [
    {
     "name": "stdout",
     "output_type": "stream",
     "text": [
      "[[0.18129258 0.9215171  0.14767178 0.42667856 0.34293406]\n",
      " [0.07336838 0.56649851 0.34931005 0.46705864 0.22001935]\n",
      " [0.57927085 0.54786528 0.42217065 0.42809655 0.27607149]\n",
      " [0.46959136 0.05845764 0.85769959 0.82732343 0.31596975]\n",
      " [0.80514082 0.12968978 0.0569189  0.77305422 0.89880078]]\n",
      "[[-0.97374557  1.75232619 -1.097563   -0.07004705 -0.37845822]\n",
      " [-1.37120487  0.44487673 -0.35497699  0.07866321 -0.83112403]\n",
      " [ 0.49191426  0.37625495 -0.08664862 -0.06482494 -0.62469727]\n",
      " [ 0.08799064 -1.42611758  1.51730141  1.40543321 -0.47776143]\n",
      " [ 1.32373989 -1.16378648 -1.43178439  1.20557256  1.66866737]]\n"
     ]
    }
   ],
   "source": [
    "Z = np.random.random((5,5))\n",
    "print(Z)\n",
    "Z = (Z - np.mean (Z)) / (np.std (Z))\n",
    "print(Z)"
   ]
  },
  {
   "cell_type": "markdown",
   "metadata": {},
   "source": [
    "**23. Create a custom dtype that describes a color as four unsigned bytes (RGBA) (★☆☆)**"
   ]
  },
  {
   "cell_type": "code",
   "execution_count": 74,
   "metadata": {},
   "outputs": [
    {
     "name": "stdout",
     "output_type": "stream",
     "text": [
      "[('r', 'u1'), ('g', 'u1'), ('b', 'u1'), ('a', 'u1')]\n"
     ]
    }
   ],
   "source": [
    "color = np.dtype([(\"r\", np.ubyte, 1),\n",
    "                  (\"g\", np.ubyte, 1),\n",
    "                  (\"b\", np.ubyte, 1),\n",
    "                  (\"a\", np.ubyte, 1)])\n",
    "print(color)"
   ]
  },
  {
   "cell_type": "markdown",
   "metadata": {},
   "source": [
    "**24. Multiply a 5x3 matrix by a 3x2 matrix (real matrix product) (★☆☆)**"
   ]
  },
  {
   "cell_type": "code",
   "execution_count": 75,
   "metadata": {},
   "outputs": [
    {
     "name": "stdout",
     "output_type": "stream",
     "text": [
      "A: \n",
      " [[ 0  1  2]\n",
      " [ 3  4  5]\n",
      " [ 6  7  8]\n",
      " [ 9 10 11]\n",
      " [12 13 14]]\n",
      "\n",
      "B: \n",
      " [[0 1]\n",
      " [2 3]\n",
      " [4 5]]\n",
      "\n",
      "A*B: \n",
      " [[ 10  13]\n",
      " [ 28  40]\n",
      " [ 46  67]\n",
      " [ 64  94]\n",
      " [ 82 121]]\n"
     ]
    }
   ],
   "source": [
    "a = np.arange(15,  dtype='int').reshape(5,3)\n",
    "b = np.arange(6,  dtype='int').reshape(3,2)\n",
    "print(\"A: \\n\", a)\n",
    "print(\"\\nB: \\n\", b)\n",
    "print(\"\\nA*B: \\n\", np.dot(a,b))"
   ]
  },
  {
   "cell_type": "markdown",
   "metadata": {},
   "source": [
    "**25. Given a 1D array, negate all elements which are between 3 and 8, in place.**"
   ]
  },
  {
   "cell_type": "code",
   "execution_count": 76,
   "metadata": {},
   "outputs": [
    {
     "name": "stdout",
     "output_type": "stream",
     "text": [
      "[ 0  1  2  3 -4 -5 -6 -7  8  9]\n"
     ]
    }
   ],
   "source": [
    "X = np.arange(10)\n",
    "X[4:8:] *= -1\n",
    "print(X)"
   ]
  },
  {
   "cell_type": "markdown",
   "metadata": {},
   "source": [
    "**26. What is the output of the following script? (★☆☆)**"
   ]
  },
  {
   "cell_type": "code",
   "execution_count": 77,
   "metadata": {},
   "outputs": [
    {
     "name": "stdout",
     "output_type": "stream",
     "text": [
      "10\n",
      "10\n"
     ]
    }
   ],
   "source": [
    "print(sum(range(5),-1)) # a função sum é definida na prṕria liguagem python\n",
    "from numpy import * # nesse import a função sum é sobreposta\n",
    "print(sum(range(5),-1))"
   ]
  },
  {
   "cell_type": "code",
   "execution_count": 78,
   "metadata": {},
   "outputs": [],
   "source": [
    "import numpy as np"
   ]
  },
  {
   "cell_type": "markdown",
   "metadata": {},
   "source": [
    "**27. Consider an integer vector Z, which of these expressions are legal? (★☆☆)**"
   ]
  },
  {
   "cell_type": "code",
   "execution_count": 79,
   "metadata": {},
   "outputs": [
    {
     "name": "stdout",
     "output_type": "stream",
     "text": [
      "[  1   1   4  27 256]\n",
      "[0 1 2 4 8]\n",
      "[False False False False False]\n",
      "[0.+0.j 0.+1.j 0.+2.j 0.+3.j 0.+4.j]\n",
      "[0. 1. 2. 3. 4.]\n"
     ]
    }
   ],
   "source": [
    "Z = np.arange(5, dtype='int')\n",
    "print(Z**Z)\n",
    "print(2 << Z >> 2)\n",
    "print(Z <- Z)\n",
    "print(1j*Z)\n",
    "print(Z/1/1)\n",
    "#Z<Z>Z\n"
   ]
  },
  {
   "cell_type": "markdown",
   "metadata": {},
   "source": [
    "**28. What are the result of the following expressions?**"
   ]
  },
  {
   "cell_type": "code",
   "execution_count": 80,
   "metadata": {},
   "outputs": [
    {
     "name": "stdout",
     "output_type": "stream",
     "text": [
      "0\n",
      "nan\n",
      "0\n",
      "[-9.22337204e+18]\n"
     ]
    },
    {
     "name": "stderr",
     "output_type": "stream",
     "text": [
      "/home/rafaelfigueredog/anaconda3/lib/python3.7/site-packages/ipykernel_launcher.py:2: RuntimeWarning: invalid value encountered in true_divide\n",
      "  \n",
      "/home/rafaelfigueredog/anaconda3/lib/python3.7/site-packages/ipykernel_launcher.py:3: RuntimeWarning: divide by zero encountered in floor_divide\n",
      "  This is separate from the ipykernel package so we can avoid doing imports until\n"
     ]
    }
   ],
   "source": [
    "print(np.array(0))\n",
    "print(np.array(0) / np.array(0))\n",
    "print(np.array(0) // np.array(0))\n",
    "print(np.array([np.nan]).astype(int).astype(float))\n"
   ]
  },
  {
   "cell_type": "markdown",
   "metadata": {},
   "source": [
    "- Essa mensagem de erro é referente a tentativa de casting do 'np.nan' que não é numérico para um tipo int ou float "
   ]
  },
  {
   "cell_type": "markdown",
   "metadata": {},
   "source": [
    "**29. How to round away from zero a float array ?**"
   ]
  },
  {
   "cell_type": "code",
   "execution_count": 81,
   "metadata": {},
   "outputs": [
    {
     "name": "stdout",
     "output_type": "stream",
     "text": [
      "[ 3.43752957  4.41375385 -3.08619417  0.09846916  6.3007182  -4.76821939\n",
      "  5.54498809 -5.67689157  0.42516217  5.54680538]\n",
      "[ 3.  4. -3.  0.  6. -5.  6. -6.  0.  6.]\n"
     ]
    }
   ],
   "source": [
    "Z = np.random.uniform(-10,+10,10)\n",
    "print(Z)\n",
    "print (np.trunc(Z + np.copysign(0.5, Z)))"
   ]
  },
  {
   "cell_type": "markdown",
   "metadata": {},
   "source": [
    "**30. How to find common values between two arrays?**"
   ]
  },
  {
   "cell_type": "code",
   "execution_count": 82,
   "metadata": {},
   "outputs": [
    {
     "data": {
      "text/plain": [
       "array([ 5,  6,  7,  8,  9, 10])"
      ]
     },
     "execution_count": 82,
     "metadata": {},
     "output_type": "execute_result"
    }
   ],
   "source": [
    "a = np.arange(1, 11)\n",
    "b = np.arange(5, 16)\n",
    "np.intersect1d(a, b)"
   ]
  },
  {
   "cell_type": "markdown",
   "metadata": {},
   "source": [
    "**31. How to ignore all numpy warnings (not recommended)? (★☆☆)**\n"
   ]
  },
  {
   "cell_type": "code",
   "execution_count": 83,
   "metadata": {},
   "outputs": [
    {
     "name": "stdout",
     "output_type": "stream",
     "text": [
      "[-9.22337204e+18]\n"
     ]
    }
   ],
   "source": [
    "defaults = np.seterr(all=\"ignore\")\n",
    "print(np.array([np.nan]).astype(int).astype(float))\n",
    "\n",
    "#voltando\n",
    "_ = np.seterr(**defaults)"
   ]
  },
  {
   "cell_type": "markdown",
   "metadata": {},
   "source": [
    "**32. Is the following expressions true? (★☆☆)**"
   ]
  },
  {
   "cell_type": "code",
   "execution_count": 84,
   "metadata": {},
   "outputs": [
    {
     "name": "stdout",
     "output_type": "stream",
     "text": [
      "False\n",
      "1j\n",
      "nan\n"
     ]
    },
    {
     "name": "stderr",
     "output_type": "stream",
     "text": [
      "/home/rafaelfigueredog/anaconda3/lib/python3.7/site-packages/ipykernel_launcher.py:1: RuntimeWarning: invalid value encountered in sqrt\n",
      "  \"\"\"Entry point for launching an IPython kernel.\n",
      "/home/rafaelfigueredog/anaconda3/lib/python3.7/site-packages/ipykernel_launcher.py:3: RuntimeWarning: invalid value encountered in sqrt\n",
      "  This is separate from the ipykernel package so we can avoid doing imports until\n"
     ]
    }
   ],
   "source": [
    "print(np.sqrt(-1) == np.emath.sqrt(-1))\n",
    "print(np.emath.sqrt(-1))\n",
    "print(np.sqrt(-1)) "
   ]
  },
  {
   "cell_type": "markdown",
   "metadata": {},
   "source": [
    "~~~ python\n",
    "np.sqrt() ~~~\n",
    "- An array of the same shape as x, containing the **positive** square-root of each element in x.\n"
   ]
  },
  {
   "cell_type": "markdown",
   "metadata": {},
   "source": [
    "**33. How to get the dates of yesterday, today and tomorrow?**"
   ]
  },
  {
   "cell_type": "code",
   "execution_count": 85,
   "metadata": {},
   "outputs": [
    {
     "name": "stdout",
     "output_type": "stream",
     "text": [
      "2019-08-17\n",
      "2019-08-18\n",
      "2019-08-19\n"
     ]
    }
   ],
   "source": [
    "today = np.datetime64('today', 'D')\n",
    "yesterday = today - 1\n",
    "tomorow = today + 1\n",
    "print(yesterday)\n",
    "print(today)\n",
    "print(tomorow) # awsome!"
   ]
  },
  {
   "cell_type": "markdown",
   "metadata": {},
   "source": [
    "**34. How to get all the dates corresponding to the month of July 2016? (★★☆)**"
   ]
  },
  {
   "cell_type": "code",
   "execution_count": 86,
   "metadata": {},
   "outputs": [
    {
     "data": {
      "text/plain": [
       "array(['2016-06-01', '2016-06-02', '2016-06-03', '2016-06-04',\n",
       "       '2016-06-05', '2016-06-06', '2016-06-07', '2016-06-08',\n",
       "       '2016-06-09', '2016-06-10', '2016-06-11', '2016-06-12',\n",
       "       '2016-06-13', '2016-06-14', '2016-06-15', '2016-06-16',\n",
       "       '2016-06-17', '2016-06-18', '2016-06-19', '2016-06-20',\n",
       "       '2016-06-21', '2016-06-22', '2016-06-23', '2016-06-24',\n",
       "       '2016-06-25', '2016-06-26', '2016-06-27', '2016-06-28',\n",
       "       '2016-06-29', '2016-06-30'], dtype='datetime64[D]')"
      ]
     },
     "execution_count": 86,
     "metadata": {},
     "output_type": "execute_result"
    }
   ],
   "source": [
    "np.arange('2016-06', '2016-07',  dtype='datetime64[D]')"
   ]
  },
  {
   "cell_type": "markdown",
   "metadata": {},
   "source": [
    "**35. How to compute ((A+B)*(-A/2)) in place (without copy)? (★★☆)**"
   ]
  },
  {
   "cell_type": "code",
   "execution_count": null,
   "metadata": {},
   "outputs": [],
   "source": []
  },
  {
   "cell_type": "code",
   "execution_count": 87,
   "metadata": {},
   "outputs": [
    {
     "name": "stdout",
     "output_type": "stream",
     "text": [
      "[1. 1. 1.]\n",
      "[2. 2. 2.]\n",
      "[3. 3. 3.]\n",
      "[3. 3. 3.]\n",
      "[0.5 0.5 0.5]\n",
      "[-0.5 -0.5 -0.5]\n",
      "[-1.5 -1.5 -1.5]\n"
     ]
    }
   ],
   "source": [
    "A = np.ones(3)*1\n",
    "print(A)\n",
    "B = np.ones(3)*2\n",
    "print(B)\n",
    "C = np.ones(3)*3\n",
    "print(C)\n",
    "print(np.add(A,B,out=B))\n",
    "print(np.divide(A,2,out=A))\n",
    "print(np.negative(A,out=A))\n",
    "print(np.multiply(A,B,out=A))"
   ]
  },
  {
   "cell_type": "markdown",
   "metadata": {},
   "source": [
    "**36. Extract the integer part of a random array using 5 different methods (★★☆)**"
   ]
  },
  {
   "cell_type": "code",
   "execution_count": 88,
   "metadata": {},
   "outputs": [
    {
     "name": "stdout",
     "output_type": "stream",
     "text": [
      "[2. 3. 6. 3. 5. 8. 6. 0. 4. 6.]\n",
      "[2. 3. 6. 3. 5. 8. 6. 0. 4. 6.]\n",
      "[2. 3. 6. 3. 5. 8. 6. 0. 4. 6.]\n",
      "[2 3 6 3 5 8 6 0 4 6]\n",
      "[2. 3. 6. 3. 5. 8. 6. 0. 4. 6.]\n"
     ]
    }
   ],
   "source": [
    "Z = np.random.uniform(0,10,10)\n",
    "\n",
    "print (Z - Z%1)\n",
    "print (np.floor(Z))\n",
    "print (np.ceil(Z)-1)\n",
    "print (Z.astype(int))\n",
    "print (np.trunc(Z))"
   ]
  },
  {
   "cell_type": "markdown",
   "metadata": {},
   "source": [
    "**37. Create a 5x5 matrix with row values ranging from 0 to 4 (★★☆)**"
   ]
  },
  {
   "cell_type": "code",
   "execution_count": 89,
   "metadata": {},
   "outputs": [
    {
     "name": "stdout",
     "output_type": "stream",
     "text": [
      "[[0. 1. 2. 3. 4.]\n",
      " [0. 1. 2. 3. 4.]\n",
      " [0. 1. 2. 3. 4.]\n",
      " [0. 1. 2. 3. 4.]\n",
      " [0. 1. 2. 3. 4.]]\n"
     ]
    }
   ],
   "source": [
    "Z = np.zeros((5,5))\n",
    "Z += np.arange(5)\n",
    "print(Z)"
   ]
  },
  {
   "cell_type": "markdown",
   "metadata": {},
   "source": [
    "**38. Consider a generator function that generates 10 integers and use it to build an array (★☆☆)**"
   ]
  },
  {
   "cell_type": "code",
   "execution_count": 90,
   "metadata": {},
   "outputs": [
    {
     "name": "stdout",
     "output_type": "stream",
     "text": [
      "[0. 1. 2. 3. 4. 5. 6. 7. 8. 9.]\n"
     ]
    }
   ],
   "source": [
    "def generate():\n",
    "    for x in range(10):\n",
    "        yield x\n",
    "Z = np.fromiter(generate(),dtype=float,count=-1)\n",
    "print(Z)"
   ]
  },
  {
   "cell_type": "markdown",
   "metadata": {},
   "source": [
    "**39. Create a vector of size 10 with values ranging from 0 to 1, both excluded (★★☆)**"
   ]
  },
  {
   "cell_type": "code",
   "execution_count": 91,
   "metadata": {},
   "outputs": [
    {
     "data": {
      "text/plain": [
       "array([0.09090909, 0.18181818, 0.27272727, 0.36363636, 0.45454545,\n",
       "       0.54545455, 0.63636364, 0.72727273, 0.81818182, 0.90909091])"
      ]
     },
     "execution_count": 91,
     "metadata": {},
     "output_type": "execute_result"
    }
   ],
   "source": [
    "np.linspace(0,1,11,endpoint=False)[1:]"
   ]
  },
  {
   "cell_type": "markdown",
   "metadata": {},
   "source": [
    "**40. Create a random vector of size 10 and sort it (★★☆)**"
   ]
  },
  {
   "cell_type": "code",
   "execution_count": 92,
   "metadata": {},
   "outputs": [
    {
     "name": "stdout",
     "output_type": "stream",
     "text": [
      "[0.78351745 0.49706919 0.59959854 0.09259557 0.56659714 0.88645044\n",
      " 0.59880857 0.88112347 0.16922399 0.19416212] \n",
      "\n",
      "[0.09259557 0.16922399 0.19416212 0.49706919 0.56659714 0.59880857\n",
      " 0.59959854 0.78351745 0.88112347 0.88645044]\n"
     ]
    }
   ],
   "source": [
    "a = np.random.random(10)\n",
    "print(a, \"\\n\")\n",
    "a.sort()\n",
    "print(a)"
   ]
  },
  {
   "cell_type": "markdown",
   "metadata": {},
   "source": [
    "**41. How to sum a small array faster than np.sum? (★★☆)**"
   ]
  },
  {
   "cell_type": "code",
   "execution_count": 93,
   "metadata": {},
   "outputs": [
    {
     "data": {
      "text/plain": [
       "6"
      ]
     },
     "execution_count": 93,
     "metadata": {},
     "output_type": "execute_result"
    }
   ],
   "source": [
    "a = np.arange(4)\n",
    "np.add.reduce(a)"
   ]
  },
  {
   "cell_type": "markdown",
   "metadata": {},
   "source": [
    "**42. Consider two random array A and B, check if they are equal (★★☆)**"
   ]
  },
  {
   "cell_type": "code",
   "execution_count": 94,
   "metadata": {},
   "outputs": [
    {
     "name": "stdout",
     "output_type": "stream",
     "text": [
      "False\n",
      "False\n"
     ]
    }
   ],
   "source": [
    "a = np.random.randint(0,2,5)\n",
    "b = np.random.randint(0,2,5)\n",
    "\n",
    "#possui uma tolerancia relacionada aos valores\n",
    "equal = np.allclose(a,b)\n",
    "print(equal)\n",
    "\n",
    "#não possui tolerancia, ambos os arrays devem ser exatamente iguais\n",
    "equal = np.array_equal(a,b)\n",
    "print(equal)"
   ]
  },
  {
   "cell_type": "markdown",
   "metadata": {},
   "source": [
    "**43. Make an array immutable (read-only) (★★☆)**"
   ]
  },
  {
   "cell_type": "code",
   "execution_count": 95,
   "metadata": {},
   "outputs": [
    {
     "ename": "ValueError",
     "evalue": "assignment destination is read-only",
     "output_type": "error",
     "traceback": [
      "\u001b[0;31m---------------------------------------------------------------------------\u001b[0m",
      "\u001b[0;31mValueError\u001b[0m                                Traceback (most recent call last)",
      "\u001b[0;32m<ipython-input-95-50d3306bb5ff>\u001b[0m in \u001b[0;36m<module>\u001b[0;34m\u001b[0m\n\u001b[1;32m      1\u001b[0m \u001b[0mx\u001b[0m \u001b[0;34m=\u001b[0m \u001b[0mnp\u001b[0m\u001b[0;34m.\u001b[0m\u001b[0mzeros\u001b[0m\u001b[0;34m(\u001b[0m\u001b[0;36m10\u001b[0m\u001b[0;34m)\u001b[0m\u001b[0;34m\u001b[0m\u001b[0;34m\u001b[0m\u001b[0m\n\u001b[1;32m      2\u001b[0m \u001b[0mx\u001b[0m\u001b[0;34m.\u001b[0m\u001b[0mflags\u001b[0m\u001b[0;34m.\u001b[0m\u001b[0mwriteable\u001b[0m \u001b[0;34m=\u001b[0m \u001b[0;32mFalse\u001b[0m\u001b[0;34m\u001b[0m\u001b[0;34m\u001b[0m\u001b[0m\n\u001b[0;32m----> 3\u001b[0;31m \u001b[0mx\u001b[0m\u001b[0;34m[\u001b[0m\u001b[0;36m0\u001b[0m\u001b[0;34m]\u001b[0m \u001b[0;34m=\u001b[0m \u001b[0;36m1\u001b[0m\u001b[0;34m\u001b[0m\u001b[0;34m\u001b[0m\u001b[0m\n\u001b[0m",
      "\u001b[0;31mValueError\u001b[0m: assignment destination is read-only"
     ]
    }
   ],
   "source": [
    "x = np.zeros(10)\n",
    "x.flags.writeable = False\n",
    "x[0] = 1"
   ]
  },
  {
   "cell_type": "markdown",
   "metadata": {},
   "source": [
    "- Mensagem de erro relativo a tentativa de mudança de um array somente leitura"
   ]
  },
  {
   "cell_type": "markdown",
   "metadata": {},
   "source": [
    "**44. Consider a random 10x2 matrix representing cartesian coordinates, convert them to polar coordinates (★★☆)**"
   ]
  },
  {
   "cell_type": "code",
   "execution_count": null,
   "metadata": {},
   "outputs": [],
   "source": [
    "Z = np.random.random((10,2))\n",
    "\n",
    "X,Y = Z[:,0], Z[:,1]\n",
    "\n",
    "R = np.sqrt(X**2+Y**2)\n",
    "\n",
    "T = np.arctan2(Y,X)\n",
    "\n",
    "print(R)\n",
    "\n",
    "print(T)"
   ]
  },
  {
   "cell_type": "markdown",
   "metadata": {},
   "source": [
    "**45. Create random vector of size 10 and replace the maximum value by 0 (★★☆)**"
   ]
  },
  {
   "cell_type": "code",
   "execution_count": null,
   "metadata": {},
   "outputs": [],
   "source": [
    "a = np.random.random(10)\n",
    "\n",
    "print(a)\n",
    "\n",
    "print(a.argmax()) # returns the index of the max\n",
    "\n",
    "a[a.argmax()] = 0\n",
    "\n",
    "print(a)\n",
    "\n"
   ]
  },
  {
   "cell_type": "markdown",
   "metadata": {},
   "source": [
    "**46. Create a structured array with x and y coordinates covering the [0,1]x[0,1] area (★★☆)**"
   ]
  },
  {
   "cell_type": "code",
   "execution_count": null,
   "metadata": {},
   "outputs": [],
   "source": [
    "a = np.zeros((5,5), [('x',float),('y',float)])\n",
    "\n",
    "a['x'], a['y'] = np.meshgrid(np.linspace(0,1,5),\n",
    "\n",
    "np.linspace(0,1,5))\n",
    "\n",
    "print(a)"
   ]
  },
  {
   "cell_type": "markdown",
   "metadata": {},
   "source": [
    "**47. Given two arrays, X and Y, construct the Cauchy matrix C (Cij =1/(xi - yj))**"
   ]
  },
  {
   "cell_type": "code",
   "execution_count": null,
   "metadata": {},
   "outputs": [],
   "source": [
    "X = np.arange(8)\n",
    "\n",
    "Y = X + 0.5\n",
    "\n",
    "C = 1.0 / np.subtract.outer(X, Y)\n",
    "\n",
    "print(np.linalg.det(C))"
   ]
  },
  {
   "cell_type": "markdown",
   "metadata": {},
   "source": [
    "**48. Print the minimum and maximum representable value for each numpy scalar type (★★☆)**"
   ]
  },
  {
   "cell_type": "code",
   "execution_count": null,
   "metadata": {},
   "outputs": [],
   "source": [
    "for dtype in [np.int8, np.int32, np.int64]:\n",
    "\n",
    "    print(np.iinfo(dtype).min)\n",
    "\n",
    "    print(np.iinfo(dtype).max)\n",
    "\n",
    "for dtype in [np.float32, np.float64]:\n",
    "\n",
    "    print(np.finfo(dtype).min)\n",
    "\n",
    "    print(np.finfo(dtype).max)\n",
    "\n",
    "    print(np.finfo(dtype).eps)"
   ]
  },
  {
   "cell_type": "markdown",
   "metadata": {},
   "source": [
    "**49. How to print all the values of an array? (★★☆)**"
   ]
  },
  {
   "cell_type": "code",
   "execution_count": null,
   "metadata": {},
   "outputs": [],
   "source": [
    "np.set_printoptions(threshold=np.nan)"
   ]
  },
  {
   "cell_type": "markdown",
   "metadata": {},
   "source": [
    "**50. How to find the closest value (to a given scalar) in a vector? (★★☆)**"
   ]
  },
  {
   "cell_type": "code",
   "execution_count": null,
   "metadata": {},
   "outputs": [],
   "source": [
    "x = np.arange(100)\n",
    "print(x)\n",
    "a = np.random.uniform(0,100)\n",
    "print(\"Value to compare:\")\n",
    "print(a)\n",
    "index = (np.abs(x-a)).argmin()\n",
    "print(x[index])"
   ]
  },
  {
   "cell_type": "markdown",
   "metadata": {},
   "source": [
    "**51. Create a structured array representing a position (x,y) and a color (r,g,b) (★★☆)**"
   ]
  },
  {
   "cell_type": "code",
   "execution_count": 97,
   "metadata": {},
   "outputs": [
    {
     "name": "stdout",
     "output_type": "stream",
     "text": [
      "[((0., 0.), (0., 0., 0.)) ((0., 0.), (0., 0., 0.))\n",
      " ((0., 0.), (0., 0., 0.)) ((0., 0.), (0., 0., 0.))\n",
      " ((0., 0.), (0., 0., 0.)) ((0., 0.), (0., 0., 0.))\n",
      " ((0., 0.), (0., 0., 0.)) ((0., 0.), (0., 0., 0.))\n",
      " ((0., 0.), (0., 0., 0.)) ((0., 0.), (0., 0., 0.))]\n"
     ]
    }
   ],
   "source": [
    "a = np.zeros(10, [ ('position', [ ('x', float, 1),\n",
    "                                  ('y', float, 1)]),\n",
    "                   ('color',    [ ('r', float, 1),\n",
    "                                  ('g', float, 1),\n",
    "                                  ('b', float, 1)])])\n",
    "print(a)"
   ]
  },
  {
   "cell_type": "markdown",
   "metadata": {},
   "source": [
    "**52. Consider a random vector with shape (100,2) representing coordinates, find point by point distances (★★☆)**"
   ]
  },
  {
   "cell_type": "code",
   "execution_count": 99,
   "metadata": {},
   "outputs": [
    {
     "name": "stdout",
     "output_type": "stream",
     "text": [
      "[[0.5211936  0.8802748 ]\n",
      " [0.93251713 0.06097919]\n",
      " [0.08758795 0.08539335]\n",
      " [0.50392015 0.10186086]\n",
      " [0.11496348 0.21727966]\n",
      " [0.0017946  0.23985687]\n",
      " [0.49029704 0.18316456]\n",
      " [0.63595036 0.87324897]\n",
      " [0.92845387 0.68271644]\n",
      " [0.97332939 0.07350311]]\n",
      "[[0.         0.91675096 0.9054559  0.77860557 0.77755094 0.82456682\n",
      "  0.69779459 0.11497163 0.45264802 0.92482827]\n",
      " [0.91675096 0.         0.84528183 0.43054231 0.83236038 0.94775612\n",
      "  0.45878958 0.86471616 0.62175053 0.04269062]\n",
      " [0.9054559  0.84528183 0.         0.41665775 0.13469751 0.17669035\n",
      "  0.41440779 0.95990511 1.03143123 0.88582125]\n",
      " [0.77860557 0.43054231 0.41665775 0.         0.40572009 0.52074271\n",
      "  0.08243713 0.78260564 0.71945958 0.47026503]\n",
      " [0.77755094 0.83236038 0.13469751 0.40572009 0.         0.11539899\n",
      "  0.37688077 0.83768912 0.9372289  0.87032392]\n",
      " [0.82456682 0.94775612 0.17669035 0.52074271 0.11539899 0.\n",
      "  0.4917811  0.89629185 1.02704528 0.9856741 ]\n",
      " [0.69779459 0.45878958 0.41440779 0.08243713 0.37688077 0.4917811\n",
      "  0.         0.70528816 0.66447987 0.49532402]\n",
      " [0.11497163 0.86471616 0.95990511 0.78260564 0.83768912 0.89629185\n",
      "  0.70528816 0.         0.34908587 0.86799657]\n",
      " [0.45264802 0.62175053 1.03143123 0.71945958 0.9372289  1.02704528\n",
      "  0.66447987 0.34908587 0.         0.6108639 ]\n",
      " [0.92482827 0.04269062 0.88582125 0.47026503 0.87032392 0.9856741\n",
      "  0.49532402 0.86799657 0.6108639  0.        ]]\n",
      "[[0.         0.13350055 0.25458529 0.44499483 0.56703747 0.48269881\n",
      "  0.56840614 0.61677014 0.58445806 0.54488637]\n",
      " [0.13350055 0.         0.19531742 0.43211663 0.53781691 0.59859341\n",
      "  0.70131626 0.59647526 0.71771827 0.51762096]\n",
      " [0.25458529 0.19531742 0.         0.62656368 0.7278761  0.73108843\n",
      "  0.77402344 0.78845766 0.78465989 0.70847638]\n",
      " [0.44499483 0.43211663 0.62656368 0.         0.13009382 0.53763757\n",
      "  0.77021287 0.17191222 0.79579481 0.10734832]\n",
      " [0.56703747 0.53781691 0.7278761  0.13009382 0.         0.64857791\n",
      "  0.89068468 0.06727576 0.91675087 0.02282041]\n",
      " [0.48269881 0.59859341 0.73108843 0.53763757 0.64857791 0.\n",
      "  0.26328118 0.65116339 0.2904142  0.6294639 ]\n",
      " [0.56840614 0.70131626 0.77402344 0.77021287 0.89068468 0.26328118\n",
      "  0.         0.90140522 0.02716549 0.8700138 ]\n",
      " [0.61677014 0.59647526 0.78845766 0.17191222 0.06727576 0.65116339\n",
      "  0.90140522 0.         0.92796009 0.08163672]\n",
      " [0.58445806 0.71771827 0.78465989 0.79579481 0.91675087 0.2904142\n",
      "  0.02716549 0.92796009 0.         0.89599646]\n",
      " [0.54488637 0.51762096 0.70847638 0.10734832 0.02282041 0.6294639\n",
      "  0.8700138  0.08163672 0.89599646 0.        ]]\n"
     ]
    }
   ],
   "source": [
    "Z = np.random.random((10,2))\n",
    "print(Z)\n",
    "X,Y = np.atleast_2d(Z[:,0], Z[:,1])\n",
    "D = np.sqrt( (X-X.T)**2 + (Y-Y.T)**2)\n",
    "print(D)\n",
    "\n",
    "import scipy\n",
    "import scipy.spatial\n",
    "\n",
    "Z = np.random.random((10,2))\n",
    "D = scipy.spatial.distance.cdist(Z,Z)\n",
    "print(D)"
   ]
  },
  {
   "cell_type": "markdown",
   "metadata": {},
   "source": [
    "**53. How to convert a float (32 bits) array into an integer (32 bits) in place?**"
   ]
  },
  {
   "cell_type": "code",
   "execution_count": 100,
   "metadata": {},
   "outputs": [
    {
     "name": "stdout",
     "output_type": "stream",
     "text": [
      "[0 1 2 3 4 5 6 7 8 9]\n"
     ]
    }
   ],
   "source": [
    "A = np.arange(10, dtype=np.float32)\n",
    "A = A.astype(np.int32, copy=False)\n",
    "print(A)"
   ]
  },
  {
   "cell_type": "markdown",
   "metadata": {},
   "source": [
    "**54. How to read the following file? (★★☆)**"
   ]
  },
  {
   "cell_type": "code",
   "execution_count": 101,
   "metadata": {},
   "outputs": [
    {
     "name": "stdout",
     "output_type": "stream",
     "text": [
      "[[ 1  2  3  4  5]\n",
      " [ 6 -1 -1  7  8]\n",
      " [-1 -1  9 10 11]]\n"
     ]
    }
   ],
   "source": [
    "from io import StringIO\n",
    "\n",
    "s = StringIO(\"\"\"1, 2, 3, 4, 5\\n\n",
    "                6,  , 0 , 7, 8\\n\n",
    "                 ,  , 9,10,11\\n\"\"\")\n",
    "Z = np.genfromtxt(s, delimiter=\",\", dtype=np.int)\n",
    "print(Z)"
   ]
  },
  {
   "cell_type": "markdown",
   "metadata": {},
   "source": [
    "**55. What is the equivalent of enumerate for numpy arrays? (★★☆)**"
   ]
  },
  {
   "cell_type": "code",
   "execution_count": 102,
   "metadata": {},
   "outputs": [
    {
     "name": "stdout",
     "output_type": "stream",
     "text": [
      "(0, 0) 0\n",
      "(0, 1) 1\n",
      "(0, 2) 2\n",
      "(1, 0) 3\n",
      "(1, 1) 4\n",
      "(1, 2) 5\n",
      "(2, 0) 6\n",
      "(2, 1) 7\n",
      "(2, 2) 8\n",
      "(0, 0) 0\n",
      "(0, 1) 1\n",
      "(0, 2) 2\n",
      "(1, 0) 3\n",
      "(1, 1) 4\n",
      "(1, 2) 5\n",
      "(2, 0) 6\n",
      "(2, 1) 7\n",
      "(2, 2) 8\n"
     ]
    }
   ],
   "source": [
    "a = np.arange(9).reshape(3,3)\n",
    "for index, value in np.ndenumerate(a):\n",
    "    print(index, value)\n",
    "for index in np.ndindex(a.shape):\n",
    "    print(index, a[index])"
   ]
  },
  {
   "cell_type": "markdown",
   "metadata": {},
   "source": [
    "**56. Generate a generic 2D Gaussian-like array (★★☆)**"
   ]
  },
  {
   "cell_type": "code",
   "execution_count": 103,
   "metadata": {},
   "outputs": [
    {
     "name": "stdout",
     "output_type": "stream",
     "text": [
      "[[0.36787944 0.44822088 0.51979489 0.57375342 0.60279818 0.60279818\n",
      "  0.57375342 0.51979489 0.44822088 0.36787944]\n",
      " [0.44822088 0.54610814 0.63331324 0.69905581 0.73444367 0.73444367\n",
      "  0.69905581 0.63331324 0.54610814 0.44822088]\n",
      " [0.51979489 0.63331324 0.73444367 0.81068432 0.85172308 0.85172308\n",
      "  0.81068432 0.73444367 0.63331324 0.51979489]\n",
      " [0.57375342 0.69905581 0.81068432 0.89483932 0.9401382  0.9401382\n",
      "  0.89483932 0.81068432 0.69905581 0.57375342]\n",
      " [0.60279818 0.73444367 0.85172308 0.9401382  0.98773022 0.98773022\n",
      "  0.9401382  0.85172308 0.73444367 0.60279818]\n",
      " [0.60279818 0.73444367 0.85172308 0.9401382  0.98773022 0.98773022\n",
      "  0.9401382  0.85172308 0.73444367 0.60279818]\n",
      " [0.57375342 0.69905581 0.81068432 0.89483932 0.9401382  0.9401382\n",
      "  0.89483932 0.81068432 0.69905581 0.57375342]\n",
      " [0.51979489 0.63331324 0.73444367 0.81068432 0.85172308 0.85172308\n",
      "  0.81068432 0.73444367 0.63331324 0.51979489]\n",
      " [0.44822088 0.54610814 0.63331324 0.69905581 0.73444367 0.73444367\n",
      "  0.69905581 0.63331324 0.54610814 0.44822088]\n",
      " [0.36787944 0.44822088 0.51979489 0.57375342 0.60279818 0.60279818\n",
      "  0.57375342 0.51979489 0.44822088 0.36787944]]\n"
     ]
    }
   ],
   "source": [
    "X, Y = np.meshgrid(np.linspace(-1,1,10), np.linspace(-1,1,10))\n",
    "D = np.sqrt(X*X+Y*Y)\n",
    "sigma, mu = 1.0, 0.0\n",
    "A = np.exp(-( (D-mu)**2 / ( 2.0 * sigma**2 ) ) )\n",
    "print(A)"
   ]
  },
  {
   "cell_type": "markdown",
   "metadata": {},
   "source": [
    "**57. How to randomly place p elements in a 2D array? (★★☆)**"
   ]
  },
  {
   "cell_type": "code",
   "execution_count": 108,
   "metadata": {
    "scrolled": true
   },
   "outputs": [
    {
     "name": "stdout",
     "output_type": "stream",
     "text": [
      "[[0. 0. 0. 0. 0. 0. 0. 0. 0. 0.]\n",
      " [0. 0. 0. 1. 0. 0. 0. 0. 0. 1.]\n",
      " [0. 0. 0. 0. 0. 0. 0. 0. 0. 0.]\n",
      " [0. 0. 0. 0. 0. 0. 0. 0. 0. 0.]\n",
      " [0. 0. 0. 0. 0. 0. 0. 0. 0. 0.]\n",
      " [0. 0. 0. 0. 0. 0. 0. 0. 0. 0.]\n",
      " [0. 0. 0. 0. 0. 0. 0. 0. 0. 0.]\n",
      " [0. 0. 0. 0. 0. 0. 0. 0. 0. 0.]\n",
      " [0. 0. 0. 0. 0. 0. 0. 0. 0. 0.]\n",
      " [1. 0. 0. 0. 0. 0. 0. 0. 0. 0.]]\n"
     ]
    }
   ],
   "source": [
    "n = 10\n",
    "p = 3\n",
    "Z = np.zeros((n,n))\n",
    "np.put(Z, np.random.choice(range(n*n), p, replace=False),1)\n",
    "print(Z)"
   ]
  },
  {
   "cell_type": "markdown",
   "metadata": {},
   "source": [
    "**58. Subtract the mean of each row of a matrix (★★☆)**"
   ]
  },
  {
   "cell_type": "code",
   "execution_count": 109,
   "metadata": {},
   "outputs": [
    {
     "name": "stdout",
     "output_type": "stream",
     "text": [
      "[[ 0.24337024  0.08658608 -0.19487214 -0.14646048 -0.06207559  0.08200847\n",
      "  -0.1633861  -0.02966519  0.02422171  0.16027301]\n",
      " [-0.23432988  0.56049041 -0.08721276 -0.3031199   0.39785016 -0.21299616\n",
      "  -0.25717298 -0.01528044  0.03039868  0.12137288]\n",
      " [-0.34439707 -0.09106006  0.18801212 -0.40423806  0.15813737  0.18755303\n",
      "   0.32656944  0.44599255 -0.02152281 -0.44504651]\n",
      " [ 0.26432367  0.31800639 -0.21192299  0.2996088   0.41815893 -0.26838342\n",
      "   0.14323937 -0.31881037 -0.28290082 -0.36131956]\n",
      " [ 0.23895925 -0.13125514 -0.32937954  0.49049069 -0.40020705 -0.28110642\n",
      "   0.49453182 -0.242604    0.39213082 -0.23156042]]\n"
     ]
    }
   ],
   "source": [
    "# Author: Warren Weckesser\n",
    "X = np.random.rand(5, 10)\n",
    "Y = X - X.mean(axis=1, keepdims=True)\n",
    "Y = X - X.mean(axis=1).reshape(-1, 1)\n",
    "print(Y)"
   ]
  },
  {
   "cell_type": "markdown",
   "metadata": {},
   "source": [
    "**59. How to sort an array by the nth column? (★★☆)**"
   ]
  },
  {
   "cell_type": "code",
   "execution_count": null,
   "metadata": {},
   "outputs": [],
   "source": []
  },
  {
   "cell_type": "markdown",
   "metadata": {},
   "source": [
    "**60. How to tell if a given 2D array has null columns? (★★☆)**"
   ]
  },
  {
   "cell_type": "code",
   "execution_count": null,
   "metadata": {},
   "outputs": [],
   "source": []
  },
  {
   "cell_type": "markdown",
   "metadata": {},
   "source": [
    "**61. Find the nearest value from a given value in an array (★★☆)**"
   ]
  },
  {
   "cell_type": "code",
   "execution_count": null,
   "metadata": {},
   "outputs": [],
   "source": []
  },
  {
   "cell_type": "markdown",
   "metadata": {},
   "source": [
    "**62. Considering two arrays with shape (1,3) and (3,1), how to compute their sum using an iterator? (★★☆)**"
   ]
  },
  {
   "cell_type": "code",
   "execution_count": null,
   "metadata": {},
   "outputs": [],
   "source": []
  },
  {
   "cell_type": "markdown",
   "metadata": {},
   "source": [
    "**63. Create an array class that has a name attribute (★★☆)**"
   ]
  },
  {
   "cell_type": "code",
   "execution_count": null,
   "metadata": {},
   "outputs": [],
   "source": []
  },
  {
   "cell_type": "markdown",
   "metadata": {},
   "source": [
    "**64. Consider a given vector, how to add 1 to each element indexed by a second vector (be careful with repeated\n",
    "indices)? (★★★)**"
   ]
  },
  {
   "cell_type": "code",
   "execution_count": null,
   "metadata": {},
   "outputs": [],
   "source": []
  },
  {
   "cell_type": "markdown",
   "metadata": {},
   "source": [
    "**65. How to accumulate elements of a vector (X) to an array (F) based on an index list (I)? (★★★)**"
   ]
  },
  {
   "cell_type": "code",
   "execution_count": 113,
   "metadata": {},
   "outputs": [
    {
     "name": "stdout",
     "output_type": "stream",
     "text": [
      "[1, 1, 1, 1, 1, 1]\n",
      "[1, 3, 9, 3, 4, 1]\n",
      "[0. 2. 0. 2. 1. 0. 0. 0. 0. 1.]\n"
     ]
    }
   ],
   "source": [
    "X = [1,1,1,1,1,1]\n",
    "I = [1,3,9,3,4,1]\n",
    "F = np.bincount(I,X)\n",
    "print(X)\n",
    "print(I)\n",
    "print(F)"
   ]
  },
  {
   "cell_type": "markdown",
   "metadata": {},
   "source": [
    "**66. Considering a (w,h,3) image of (dtype=ubyte), compute the number of unique colors (★★★)**"
   ]
  },
  {
   "cell_type": "code",
   "execution_count": 114,
   "metadata": {},
   "outputs": [
    {
     "name": "stdout",
     "output_type": "stream",
     "text": [
      "[0 1]\n"
     ]
    }
   ],
   "source": [
    "w,h = 16,16\n",
    "I = np.random.randint(0,2,(h,w,3)).astype(np.ubyte)\n",
    "F = I[...,0]*256*256 + I[...,1]*256 +I[...,2]\n",
    "n = len(np.unique(F))\n",
    "print(np.unique(I))"
   ]
  },
  {
   "cell_type": "markdown",
   "metadata": {},
   "source": [
    "**67. Considering a four dimensions array, how to get sum over the last two axis at once? (★★★)**"
   ]
  },
  {
   "cell_type": "code",
   "execution_count": 116,
   "metadata": {},
   "outputs": [
    {
     "name": "stdout",
     "output_type": "stream",
     "text": [
      "[[52 46 56 73]\n",
      " [64 50 58 58]\n",
      " [54 35 69 49]]\n",
      "[[52 46 56 73]\n",
      " [64 50 58 58]\n",
      " [54 35 69 49]]\n"
     ]
    }
   ],
   "source": [
    "A = np.random.randint(0,10,(3,4,3,4))\n",
    "sum = A.sum(axis=(-2,-1))\n",
    "print(sum)\n",
    "sum = A.reshape(A.shape[:-2] + (-1,)).sum(axis=-1)\n",
    "print(sum)"
   ]
  },
  {
   "cell_type": "markdown",
   "metadata": {},
   "source": [
    "**68. Considering a one-dimensional vector D, how to compute means of subsets of D using a vector S of same size\n",
    "describing subset indices? (★★★)**"
   ]
  },
  {
   "cell_type": "code",
   "execution_count": 117,
   "metadata": {},
   "outputs": [
    {
     "name": "stdout",
     "output_type": "stream",
     "text": [
      "[0.40302176 0.69616172 0.45640509 0.57182783 0.53087413 0.61264697\n",
      " 0.65688593 0.45381572 0.56745847 0.41125589]\n",
      "0    0.403022\n",
      "1    0.696162\n",
      "2    0.456405\n",
      "3    0.571828\n",
      "4    0.530874\n",
      "5    0.612647\n",
      "6    0.656886\n",
      "7    0.453816\n",
      "8    0.567458\n",
      "9    0.411256\n",
      "dtype: float64\n"
     ]
    }
   ],
   "source": [
    "D = np.random.uniform(0,1,100)\n",
    "S = np.random.randint(0,10,100)\n",
    "D_sums = np.bincount(S, weights=D)\n",
    "D_counts = np.bincount(S)\n",
    "D_means = D_sums / D_counts\n",
    "print(D_means)\n",
    "# Pandas solution as a reference due to more intuitive code\n",
    "import pandas as pd\n",
    "print(pd.Series(D).groupby(S).mean())"
   ]
  },
  {
   "cell_type": "markdown",
   "metadata": {},
   "source": [
    "**69. How to get the diagonal of a dot product? (★★★)**"
   ]
  },
  {
   "cell_type": "code",
   "execution_count": 120,
   "metadata": {},
   "outputs": [
    {
     "name": "stdout",
     "output_type": "stream",
     "text": [
      "[2.19691393 2.07680592 1.54506031 1.18594273 0.55942215]\n",
      "[2.19691393 2.07680592 1.54506031 1.18594273 0.55942215]\n"
     ]
    },
    {
     "data": {
      "text/plain": [
       "array([2.19691393, 2.07680592, 1.54506031, 1.18594273, 0.55942215])"
      ]
     },
     "execution_count": 120,
     "metadata": {},
     "output_type": "execute_result"
    }
   ],
   "source": [
    "A = np.random.uniform(0,1,(5,5))\n",
    "B = np.random.uniform(0,1,(5,5))\n",
    "\n",
    "  \n",
    "print(np.diag(np.dot(A, B)))\n",
    "\n",
    "print(np.sum(A * B.T, axis=1))\n",
    "\n",
    "np.einsum(\"ij,ji->i\", A, B)"
   ]
  },
  {
   "cell_type": "markdown",
   "metadata": {},
   "source": [
    "**70. Consider the vector [1, 2, 3, 4, 5], how to build a new vector with 3 consecutive zeros interleaved between each\n",
    "value? (★★★)**"
   ]
  },
  {
   "cell_type": "code",
   "execution_count": 124,
   "metadata": {},
   "outputs": [
    {
     "name": "stdout",
     "output_type": "stream",
     "text": [
      "[1. 0. 0. 0. 2. 0. 0. 0. 3. 0. 0. 0. 4. 0. 0. 0. 5.]\n"
     ]
    }
   ],
   "source": [
    "a = np.array([1,2,3,4,5])\n",
    "\n",
    "a0 = np.zeros(len(a) + (len(a)-1)*(3))\n",
    "a0[::3+1] = a\n",
    "print(a0)"
   ]
  },
  {
   "cell_type": "markdown",
   "metadata": {},
   "source": [
    "**71. Consider an array of dimension (5,5,3), how to mulitply it by an array with dimensions (5,5)? (★★★)**"
   ]
  },
  {
   "cell_type": "code",
   "execution_count": 127,
   "metadata": {},
   "outputs": [
    {
     "name": "stdout",
     "output_type": "stream",
     "text": [
      "[[[2. 2. 2.]\n",
      "  [2. 2. 2.]\n",
      "  [2. 2. 2.]\n",
      "  [2. 2. 2.]\n",
      "  [2. 2. 2.]]\n",
      "\n",
      " [[2. 2. 2.]\n",
      "  [2. 2. 2.]\n",
      "  [2. 2. 2.]\n",
      "  [2. 2. 2.]\n",
      "  [2. 2. 2.]]\n",
      "\n",
      " [[2. 2. 2.]\n",
      "  [2. 2. 2.]\n",
      "  [2. 2. 2.]\n",
      "  [2. 2. 2.]\n",
      "  [2. 2. 2.]]\n",
      "\n",
      " [[2. 2. 2.]\n",
      "  [2. 2. 2.]\n",
      "  [2. 2. 2.]\n",
      "  [2. 2. 2.]\n",
      "  [2. 2. 2.]]\n",
      "\n",
      " [[2. 2. 2.]\n",
      "  [2. 2. 2.]\n",
      "  [2. 2. 2.]\n",
      "  [2. 2. 2.]\n",
      "  [2. 2. 2.]]]\n"
     ]
    }
   ],
   "source": [
    "a = np.ones((5,5,3))\n",
    "b = 2*np.ones((5,5))\n",
    "print(a * b[:,:,None])"
   ]
  },
  {
   "cell_type": "markdown",
   "metadata": {},
   "source": [
    "**72. How to swap two rows of an array? (★★★)**"
   ]
  },
  {
   "cell_type": "code",
   "execution_count": 128,
   "metadata": {},
   "outputs": [
    {
     "data": {
      "text/plain": [
       "array([[ 5,  6,  7,  8,  9],\n",
       "       [ 0,  1,  2,  3,  4],\n",
       "       [10, 11, 12, 13, 14],\n",
       "       [15, 16, 17, 18, 19],\n",
       "       [20, 21, 22, 23, 24]])"
      ]
     },
     "execution_count": 128,
     "metadata": {},
     "output_type": "execute_result"
    }
   ],
   "source": [
    "a = np.arange(25).reshape(5,5)\n",
    "a[[0,1]] = a[[1,0]]\n",
    "a"
   ]
  },
  {
   "cell_type": "markdown",
   "metadata": {},
   "source": [
    "**73. Consider a set of 10 triplets describing 10 triangles (with shared vertices), find the set of unique line segments\n",
    "composing all the triangles (★★★)**"
   ]
  },
  {
   "cell_type": "code",
   "execution_count": 129,
   "metadata": {},
   "outputs": [
    {
     "name": "stdout",
     "output_type": "stream",
     "text": [
      "[( 3, 81) ( 3, 83) ( 5, 10) ( 5, 21) ( 6, 11) ( 6, 54) (10, 21) (11, 54)\n",
      " (14, 61) (14, 95) (20, 37) (20, 93) (21, 31) (21, 45) (21, 51) (21, 85)\n",
      " (31, 45) (37, 93) (49, 77) (49, 95) (50, 54) (50, 59) (51, 85) (54, 59)\n",
      " (61, 95) (77, 95) (79, 92) (79, 95) (81, 83) (92, 95)]\n"
     ]
    }
   ],
   "source": [
    "faces = np.random.randint(0,100,(10,3))\n",
    "F = np.roll(faces.repeat(2,axis=1),-1,axis=1)\n",
    "F = F.reshape(len(F)*3,2)\n",
    "F = np.sort(F,axis=1)\n",
    "G = F.view( dtype=[('p0',F.dtype),('p1',F.dtype)] )\n",
    "G = np.unique(G)\n",
    "print(G)"
   ]
  },
  {
   "cell_type": "markdown",
   "metadata": {},
   "source": [
    "**74. Given an array C that is a bincount, how to produce an array A such that np.bincount(A) == C? (★★★)**"
   ]
  },
  {
   "cell_type": "code",
   "execution_count": 130,
   "metadata": {},
   "outputs": [
    {
     "name": "stdout",
     "output_type": "stream",
     "text": [
      "[1 1 2 3 4 4 6]\n"
     ]
    }
   ],
   "source": [
    "C = np.bincount([1,1,2,3,4,4,6])\n",
    "A = np.repeat(np.arange(len(C)), C)\n",
    "print(A)"
   ]
  },
  {
   "cell_type": "markdown",
   "metadata": {},
   "source": [
    "**75. How to compute averages using a sliding window over an array? (★★★)**"
   ]
  },
  {
   "cell_type": "code",
   "execution_count": 131,
   "metadata": {},
   "outputs": [
    {
     "name": "stdout",
     "output_type": "stream",
     "text": [
      "[ 1.  2.  3.  4.  5.  6.  7.  8.  9. 10. 11. 12. 13. 14. 15. 16. 17. 18.]\n"
     ]
    }
   ],
   "source": [
    "def moving_average(a, n=3) :\n",
    "    ret = np.cumsum(a, dtype=float)\n",
    "    ret[n:] = ret[n:] - ret[:-n]\n",
    "    return ret[n - 1:] / n\n",
    "Z = np.arange(20)\n",
    "print(moving_average(Z, n=3))"
   ]
  },
  {
   "cell_type": "markdown",
   "metadata": {},
   "source": [
    "**76. Consider a one-dimensional array Z, build a two-dimensional array whose first row is (Z[0],Z[1],Z[2]) and each\n",
    "subsequent row is shifted by 1 (last row should be (Z[-3],Z[-2],Z[-1]) (★★★)**"
   ]
  },
  {
   "cell_type": "code",
   "execution_count": 132,
   "metadata": {},
   "outputs": [
    {
     "name": "stdout",
     "output_type": "stream",
     "text": [
      "[[0 1 2]\n",
      " [1 2 3]\n",
      " [2 3 4]\n",
      " [3 4 5]\n",
      " [4 5 6]\n",
      " [5 6 7]\n",
      " [6 7 8]\n",
      " [7 8 9]]\n"
     ]
    }
   ],
   "source": [
    "from numpy.lib import stride_tricks\n",
    "\n",
    "def rolling(a, window):\n",
    "    shape = (a.size - window + 1, window)\n",
    "    strides = (a.itemsize, a.itemsize)\n",
    "    return stride_tricks.as_strided(a, shape=shape, strides=strides)\n",
    "Z = rolling(np.arange(10), 3)\n",
    "print(Z)"
   ]
  },
  {
   "cell_type": "markdown",
   "metadata": {},
   "source": [
    "**77. How to negate a boolean, or to change the sign of a float inplace? (★★★)**"
   ]
  },
  {
   "cell_type": "code",
   "execution_count": 134,
   "metadata": {},
   "outputs": [
    {
     "name": "stdout",
     "output_type": "stream",
     "text": [
      "[0 0 1 0 1 0 0 1 0 1 1 0 1 0 0 1 0 0 0 1 0 1 0 1 1 1 0 1 0 0 1 0 1 0 1 0 0\n",
      " 1 1 1 1 0 1 0 0 1 1 1 1 0 1 0 0 0 0 0 1 0 1 0 0 1 0 0 1 1 1 0 0 0 1 1 0 1\n",
      " 1 1 0 0 0 1 1 0 0 0 0 1 1 1 1 1 0 0 1 0 0 1 0 1 1 1]\n",
      "[ 0.08399341  0.81825561 -0.91859756 -0.66715351  0.71687658  0.55285726\n",
      "  0.12657668  0.30053194  0.9405915  -0.28399728 -0.23558167  0.91691959\n",
      "  0.4072017  -0.56958917 -0.30620856 -0.11957352 -0.7650597  -0.16457461\n",
      "  0.75776288  0.17259357  0.35468991  0.57393698  0.53726255  0.50233672\n",
      " -0.36357376  0.1041202   0.55060132  0.27869167 -0.16762637  0.33810202\n",
      "  0.16297983 -0.25087116 -0.32923508 -0.27294416  0.06709891  0.43821603\n",
      "  0.80264303 -0.31607715  0.31765199  0.49156677  0.3017106  -0.78054092\n",
      "  0.93050334 -0.90894908  0.8673548  -0.54969723  0.17704967  0.51702886\n",
      "  0.89536747  0.6818775  -0.69243014 -0.11659174  0.11689331  0.02371255\n",
      "  0.73317714  0.73779096  0.18433655 -0.67445366 -0.46007534 -0.48116514\n",
      " -0.89862743  0.77268088  0.67682198  0.30060079  0.46214244 -0.26790635\n",
      " -0.52392504 -0.30980187 -0.24134179  0.88690031  0.99786927 -0.03081392\n",
      "  0.8936042   0.73118052 -0.07363294 -0.47022497 -0.69201927  0.09272685\n",
      "  0.72684291 -0.43884824 -0.96762557  0.92220014  0.55128956  0.17548226\n",
      "  0.54468627 -0.22662213  0.65726849  0.7472068  -0.41353009 -0.82141811\n",
      " -0.70172248 -0.49469865  0.09433062 -0.8212329   0.73760623 -0.37954091\n",
      "  0.94864061  0.64466458  0.37183661 -0.33856782]\n"
     ]
    }
   ],
   "source": [
    "a = np.random.randint(0,2,100)\n",
    "print(np.logical_not(a, out=a))\n",
    "\n",
    "a = np.random.uniform(-1.0,1.0,100)\n",
    "print(np.negative(a, out=a))"
   ]
  },
  {
   "cell_type": "markdown",
   "metadata": {},
   "source": [
    "**78. Consider 2 sets of points P0,P1 describing lines (2d) and a point p, how to compute distance from p to each line i\n",
    "(P0[i],P1[i])? (★★★)**"
   ]
  },
  {
   "cell_type": "code",
   "execution_count": 135,
   "metadata": {},
   "outputs": [
    {
     "name": "stdout",
     "output_type": "stream",
     "text": [
      "[11.48453236  0.77352209  6.38277683 10.24931482  0.67761418  9.91685692\n",
      "  6.29492343  6.11980283  1.85623559  3.39798026]\n"
     ]
    }
   ],
   "source": [
    "def distance(P0, P1, p):\n",
    "    T = P1 - P0\n",
    "    L = (T**2).sum(axis=1)\n",
    "    U = -((P0[:,0]-p[...,0])*T[:,0] + (P0[:,1]-p[...,1])*T[:,1]) / L\n",
    "    U = U.reshape(len(U),1)\n",
    "    D = P0 + U*T - p\n",
    "    return np.sqrt((D**2).sum(axis=1))\n",
    "\n",
    "P0 = np.random.uniform(-10,10,(10,2))\n",
    "P1 = np.random.uniform(-10,10,(10,2))\n",
    "p  = np.random.uniform(-10,10,( 1,2))\n",
    "print(distance(P0, P1, p))"
   ]
  },
  {
   "cell_type": "markdown",
   "metadata": {},
   "source": [
    "**79. Consider 2 sets of points P0,P1 describing lines (2d) and a set of points P, how to compute distance from each\n",
    "point j (P[j]) to each line i (P0[i],P1[i])? (★★★)**"
   ]
  },
  {
   "cell_type": "code",
   "execution_count": 136,
   "metadata": {},
   "outputs": [
    {
     "name": "stdout",
     "output_type": "stream",
     "text": [
      "[[ 2.12991653  0.0579515   2.18976889  0.56805037 12.12242819  0.5790064\n",
      "   5.22736883  2.89730297  7.01874712  8.71764216]\n",
      " [ 6.47963221  1.56191821  5.90143509  3.64931316  8.86974834  2.0821074\n",
      "   4.11095057  7.23660222  9.63668401  5.88469563]\n",
      " [13.65884211  6.54064567 10.54368133 11.09073353  1.93008886  6.89890965\n",
      "   0.15417249 13.98314626 11.81477118  0.61915153]\n",
      " [ 0.50142486  1.90156194  1.94777225  2.50640286 12.08668379  2.64843612\n",
      "   2.8136621   0.25753875  2.70256588  8.10031551]\n",
      " [ 7.93600523 13.93807499  0.4734901   7.52891263  0.28487305 14.57729347\n",
      "   8.69903971  6.55658171  0.48731866  4.44852876]\n",
      " [ 1.95317761 12.98865108 10.6715933   1.48940784  5.24717659 13.92987021\n",
      "   9.03336791  3.80158128  8.98018407  0.17544958]\n",
      " [ 8.59865095 15.6058348   0.82276502  8.46769434  1.74889473 16.24625199\n",
      "  10.36243782  6.96152421  1.40942569  6.00700757]\n",
      " [ 5.05612765  2.54148916  7.33817739  6.43539338 13.90041097  3.44185095\n",
      "   1.52763649  5.22239606  2.21038729  9.2141147 ]\n",
      " [11.18974409  6.5609355   7.83179858  8.89272889  3.13591803  6.99804062\n",
      "   0.50808509 11.35057247  9.45508216  0.24365601]\n",
      " [ 0.70195501  2.3492576   0.92062181  1.33973358 11.18711535  3.06382084\n",
      "   2.50527292  0.94304097  3.42725775  7.31691977]]\n"
     ]
    }
   ],
   "source": [
    "P0 = np.random.uniform(-10, 10, (10,2))\n",
    "P1 = np.random.uniform(-10,10,(10,2))\n",
    "p = np.random.uniform(-10, 10, (10,2))\n",
    "print(np.array([distance(P0,P1,p_i) for p_i in p]))"
   ]
  },
  {
   "cell_type": "markdown",
   "metadata": {},
   "source": [
    "**80. Consider an arbitrary array, write a function that extract a subpart with a fixed shape and centered on a given\n",
    "element (pad with a fill value when necessary) (★★★)**"
   ]
  },
  {
   "cell_type": "code",
   "execution_count": 137,
   "metadata": {},
   "outputs": [
    {
     "name": "stdout",
     "output_type": "stream",
     "text": [
      "[[2 3 2 2 0 8 6 4 9 1]\n",
      " [4 3 6 0 0 0 5 5 4 8]\n",
      " [3 1 5 7 0 3 9 8 1 8]\n",
      " [9 6 0 3 9 3 6 6 7 8]\n",
      " [8 2 5 7 4 4 5 9 1 6]\n",
      " [4 8 9 5 3 3 0 3 9 1]\n",
      " [1 2 2 8 3 7 4 8 1 2]\n",
      " [4 2 0 0 4 3 8 1 5 8]\n",
      " [2 5 4 7 3 7 4 1 9 2]\n",
      " [7 5 0 5 5 9 0 6 3 7]]\n",
      "[[0 0 0 0 0]\n",
      " [0 2 3 2 2]\n",
      " [0 4 3 6 0]\n",
      " [0 3 1 5 7]\n",
      " [0 9 6 0 3]]\n"
     ]
    },
    {
     "name": "stderr",
     "output_type": "stream",
     "text": [
      "/home/rafaelfigueredog/anaconda3/lib/python3.7/site-packages/ipykernel_launcher.py:23: FutureWarning: Using a non-tuple sequence for multidimensional indexing is deprecated; use `arr[tuple(seq)]` instead of `arr[seq]`. In the future this will be interpreted as an array index, `arr[np.array(seq)]`, which will result either in an error or a different result.\n"
     ]
    }
   ],
   "source": [
    "Z = np.random.randint(0,10,(10,10))\n",
    "shape = (5,5)\n",
    "fill  = 0\n",
    "position = (1,1)\n",
    "\n",
    "R = np.ones(shape, dtype=Z.dtype)*fill\n",
    "P  = np.array(list(position)).astype(int)\n",
    "Rs = np.array(list(R.shape)).astype(int)\n",
    "Zs = np.array(list(Z.shape)).astype(int)\n",
    "\n",
    "R_start = np.zeros((len(shape),)).astype(int)\n",
    "R_stop  = np.array(list(shape)).astype(int)\n",
    "Z_start = (P-Rs//2)\n",
    "Z_stop  = (P+Rs//2)+Rs%2\n",
    "\n",
    "R_start = (R_start - np.minimum(Z_start,0)).tolist()\n",
    "Z_start = (np.maximum(Z_start,0)).tolist()\n",
    "R_stop = np.maximum(R_start, (R_stop - np.maximum(Z_stop-Zs,0))).tolist()\n",
    "Z_stop = (np.minimum(Z_stop,Zs)).tolist()\n",
    "\n",
    "r = [slice(start,stop) for start,stop in zip(R_start,R_stop)]\n",
    "z = [slice(start,stop) for start,stop in zip(Z_start,Z_stop)]\n",
    "R[r] = Z[z]\n",
    "print(Z)\n",
    "print(R)"
   ]
  },
  {
   "cell_type": "markdown",
   "metadata": {},
   "source": [
    "**81. Consider an array Z = [1,2,3,4,5,6,7,8,9,10,11,12,13,14], how to generate an array R = [[1,2,3,4], [2,3,4,5], [3,4,5,6],\n",
    "..., [11,12,13,14]]? (★★★)**"
   ]
  },
  {
   "cell_type": "code",
   "execution_count": 139,
   "metadata": {},
   "outputs": [
    {
     "name": "stdout",
     "output_type": "stream",
     "text": [
      "[[ 1  2  3  4]\n",
      " [ 2  3  4  5]\n",
      " [ 3  4  5  6]\n",
      " [ 4  5  6  7]\n",
      " [ 5  6  7  8]\n",
      " [ 6  7  8  9]\n",
      " [ 7  8  9 10]\n",
      " [ 8  9 10 11]\n",
      " [ 9 10 11 12]\n",
      " [10 11 12 13]\n",
      " [11 12 13 14]]\n"
     ]
    }
   ],
   "source": [
    "Z = np.arange(1,15,dtype=np.uint32)\n",
    "R = stride_tricks.as_strided(Z,(11,4),(4,4))\n",
    "print(R) # que massa!"
   ]
  },
  {
   "cell_type": "markdown",
   "metadata": {},
   "source": [
    "**82. Compute a matrix rank (★★★)**"
   ]
  },
  {
   "cell_type": "code",
   "execution_count": 140,
   "metadata": {},
   "outputs": [
    {
     "name": "stdout",
     "output_type": "stream",
     "text": [
      "10\n"
     ]
    }
   ],
   "source": [
    "Z = np.random.uniform(0,1,(10,10))\n",
    "U, S, V = np.linalg.svd(Z) \n",
    "rank = np.sum(S > 1e-10)\n",
    "print(rank)"
   ]
  },
  {
   "cell_type": "markdown",
   "metadata": {},
   "source": [
    "**83. How to find the most frequent value in an array?**"
   ]
  },
  {
   "cell_type": "code",
   "execution_count": 142,
   "metadata": {},
   "outputs": [
    {
     "name": "stdout",
     "output_type": "stream",
     "text": [
      "[2 7 1 9 2 0 6 9 2 6 4 3 7 3 0 1 3 0 7 3 0 1 3 9 5 3 9 5 4 5 1 3 1 0 3 9 6\n",
      " 2 9 2 2 9 4 7 2 8 5 4 5 1]\n",
      "3\n"
     ]
    }
   ],
   "source": [
    "Z = np.random.randint(0,10,50)\n",
    "print(Z)\n",
    "print(np.bincount(Z).argmax())"
   ]
  },
  {
   "cell_type": "markdown",
   "metadata": {},
   "source": [
    "**84. Extract all the contiguous 3x3 blocks from a random 10x10 matrix (★★★)**"
   ]
  },
  {
   "cell_type": "code",
   "execution_count": 143,
   "metadata": {},
   "outputs": [
    {
     "name": "stdout",
     "output_type": "stream",
     "text": [
      "[[[[3 4 3]\n",
      "   [4 4 4]\n",
      "   [0 4 4]]\n",
      "\n",
      "  [[4 3 1]\n",
      "   [4 4 3]\n",
      "   [4 4 0]]\n",
      "\n",
      "  [[3 1 3]\n",
      "   [4 3 1]\n",
      "   [4 0 4]]\n",
      "\n",
      "  [[1 3 0]\n",
      "   [3 1 1]\n",
      "   [0 4 1]]\n",
      "\n",
      "  [[3 0 4]\n",
      "   [1 1 3]\n",
      "   [4 1 1]]\n",
      "\n",
      "  [[0 4 4]\n",
      "   [1 3 3]\n",
      "   [1 1 0]]\n",
      "\n",
      "  [[4 4 0]\n",
      "   [3 3 4]\n",
      "   [1 0 4]]\n",
      "\n",
      "  [[4 0 1]\n",
      "   [3 4 0]\n",
      "   [0 4 0]]]\n",
      "\n",
      "\n",
      " [[[4 4 4]\n",
      "   [0 4 4]\n",
      "   [0 3 0]]\n",
      "\n",
      "  [[4 4 3]\n",
      "   [4 4 0]\n",
      "   [3 0 4]]\n",
      "\n",
      "  [[4 3 1]\n",
      "   [4 0 4]\n",
      "   [0 4 2]]\n",
      "\n",
      "  [[3 1 1]\n",
      "   [0 4 1]\n",
      "   [4 2 0]]\n",
      "\n",
      "  [[1 1 3]\n",
      "   [4 1 1]\n",
      "   [2 0 4]]\n",
      "\n",
      "  [[1 3 3]\n",
      "   [1 1 0]\n",
      "   [0 4 1]]\n",
      "\n",
      "  [[3 3 4]\n",
      "   [1 0 4]\n",
      "   [4 1 4]]\n",
      "\n",
      "  [[3 4 0]\n",
      "   [0 4 0]\n",
      "   [1 4 2]]]\n",
      "\n",
      "\n",
      " [[[0 4 4]\n",
      "   [0 3 0]\n",
      "   [3 3 2]]\n",
      "\n",
      "  [[4 4 0]\n",
      "   [3 0 4]\n",
      "   [3 2 3]]\n",
      "\n",
      "  [[4 0 4]\n",
      "   [0 4 2]\n",
      "   [2 3 2]]\n",
      "\n",
      "  [[0 4 1]\n",
      "   [4 2 0]\n",
      "   [3 2 2]]\n",
      "\n",
      "  [[4 1 1]\n",
      "   [2 0 4]\n",
      "   [2 2 4]]\n",
      "\n",
      "  [[1 1 0]\n",
      "   [0 4 1]\n",
      "   [2 4 1]]\n",
      "\n",
      "  [[1 0 4]\n",
      "   [4 1 4]\n",
      "   [4 1 4]]\n",
      "\n",
      "  [[0 4 0]\n",
      "   [1 4 2]\n",
      "   [1 4 4]]]\n",
      "\n",
      "\n",
      " [[[0 3 0]\n",
      "   [3 3 2]\n",
      "   [2 2 3]]\n",
      "\n",
      "  [[3 0 4]\n",
      "   [3 2 3]\n",
      "   [2 3 1]]\n",
      "\n",
      "  [[0 4 2]\n",
      "   [2 3 2]\n",
      "   [3 1 2]]\n",
      "\n",
      "  [[4 2 0]\n",
      "   [3 2 2]\n",
      "   [1 2 1]]\n",
      "\n",
      "  [[2 0 4]\n",
      "   [2 2 4]\n",
      "   [2 1 1]]\n",
      "\n",
      "  [[0 4 1]\n",
      "   [2 4 1]\n",
      "   [1 1 1]]\n",
      "\n",
      "  [[4 1 4]\n",
      "   [4 1 4]\n",
      "   [1 1 1]]\n",
      "\n",
      "  [[1 4 2]\n",
      "   [1 4 4]\n",
      "   [1 1 0]]]\n",
      "\n",
      "\n",
      " [[[3 3 2]\n",
      "   [2 2 3]\n",
      "   [1 1 0]]\n",
      "\n",
      "  [[3 2 3]\n",
      "   [2 3 1]\n",
      "   [1 0 0]]\n",
      "\n",
      "  [[2 3 2]\n",
      "   [3 1 2]\n",
      "   [0 0 0]]\n",
      "\n",
      "  [[3 2 2]\n",
      "   [1 2 1]\n",
      "   [0 0 4]]\n",
      "\n",
      "  [[2 2 4]\n",
      "   [2 1 1]\n",
      "   [0 4 4]]\n",
      "\n",
      "  [[2 4 1]\n",
      "   [1 1 1]\n",
      "   [4 4 2]]\n",
      "\n",
      "  [[4 1 4]\n",
      "   [1 1 1]\n",
      "   [4 2 3]]\n",
      "\n",
      "  [[1 4 4]\n",
      "   [1 1 0]\n",
      "   [2 3 4]]]\n",
      "\n",
      "\n",
      " [[[2 2 3]\n",
      "   [1 1 0]\n",
      "   [4 0 1]]\n",
      "\n",
      "  [[2 3 1]\n",
      "   [1 0 0]\n",
      "   [0 1 2]]\n",
      "\n",
      "  [[3 1 2]\n",
      "   [0 0 0]\n",
      "   [1 2 3]]\n",
      "\n",
      "  [[1 2 1]\n",
      "   [0 0 4]\n",
      "   [2 3 2]]\n",
      "\n",
      "  [[2 1 1]\n",
      "   [0 4 4]\n",
      "   [3 2 1]]\n",
      "\n",
      "  [[1 1 1]\n",
      "   [4 4 2]\n",
      "   [2 1 4]]\n",
      "\n",
      "  [[1 1 1]\n",
      "   [4 2 3]\n",
      "   [1 4 4]]\n",
      "\n",
      "  [[1 1 0]\n",
      "   [2 3 4]\n",
      "   [4 4 3]]]\n",
      "\n",
      "\n",
      " [[[1 1 0]\n",
      "   [4 0 1]\n",
      "   [1 2 2]]\n",
      "\n",
      "  [[1 0 0]\n",
      "   [0 1 2]\n",
      "   [2 2 3]]\n",
      "\n",
      "  [[0 0 0]\n",
      "   [1 2 3]\n",
      "   [2 3 3]]\n",
      "\n",
      "  [[0 0 4]\n",
      "   [2 3 2]\n",
      "   [3 3 1]]\n",
      "\n",
      "  [[0 4 4]\n",
      "   [3 2 1]\n",
      "   [3 1 1]]\n",
      "\n",
      "  [[4 4 2]\n",
      "   [2 1 4]\n",
      "   [1 1 1]]\n",
      "\n",
      "  [[4 2 3]\n",
      "   [1 4 4]\n",
      "   [1 1 4]]\n",
      "\n",
      "  [[2 3 4]\n",
      "   [4 4 3]\n",
      "   [1 4 0]]]\n",
      "\n",
      "\n",
      " [[[4 0 1]\n",
      "   [1 2 2]\n",
      "   [4 0 0]]\n",
      "\n",
      "  [[0 1 2]\n",
      "   [2 2 3]\n",
      "   [0 0 4]]\n",
      "\n",
      "  [[1 2 3]\n",
      "   [2 3 3]\n",
      "   [0 4 1]]\n",
      "\n",
      "  [[2 3 2]\n",
      "   [3 3 1]\n",
      "   [4 1 1]]\n",
      "\n",
      "  [[3 2 1]\n",
      "   [3 1 1]\n",
      "   [1 1 0]]\n",
      "\n",
      "  [[2 1 4]\n",
      "   [1 1 1]\n",
      "   [1 0 0]]\n",
      "\n",
      "  [[1 4 4]\n",
      "   [1 1 4]\n",
      "   [0 0 2]]\n",
      "\n",
      "  [[4 4 3]\n",
      "   [1 4 0]\n",
      "   [0 2 2]]]]\n"
     ]
    }
   ],
   "source": [
    "Z = np.random.randint(0,5,(10,10))\n",
    "n = 3\n",
    "i = 1 + (Z.shape[0]-3)\n",
    "j = 1 + (Z.shape[1]-3)\n",
    "C = stride_tricks.as_strided(Z, shape=(i, j, n, n), strides=Z.strides + Z.strides)\n",
    "print(C)"
   ]
  },
  {
   "cell_type": "markdown",
   "metadata": {},
   "source": [
    "**85. Create a 2D array subclass such that Z[i,j] == Z[j,i] (★★★)**"
   ]
  },
  {
   "cell_type": "code",
   "execution_count": 144,
   "metadata": {},
   "outputs": [
    {
     "name": "stdout",
     "output_type": "stream",
     "text": [
      "[[ 6 10  6 11 11]\n",
      " [10  9  7 10 12]\n",
      " [ 6  7  9 42  6]\n",
      " [11 10 42  0  7]\n",
      " [11 12  6  7  2]]\n"
     ]
    }
   ],
   "source": [
    "class Symetric(np.ndarray):\n",
    "    def __setitem__(self, index, value):\n",
    "        i,j = index\n",
    "        super(Symetric, self).__setitem__((i,j), value)\n",
    "        super(Symetric, self).__setitem__((j,i), value)\n",
    "\n",
    "def symetric(Z):\n",
    "    return np.asarray(Z + Z.T - np.diag(Z.diagonal())).view(Symetric)\n",
    "\n",
    "S = symetric(np.random.randint(0,10,(5,5)))\n",
    "S[2,3] = 42\n",
    "print(S)"
   ]
  },
  {
   "cell_type": "markdown",
   "metadata": {},
   "source": [
    "**86. Consider a set of p matrices wich shape (n,n) and a set of p vectors with shape (n,1). How to compute the sum of\n",
    "of the p matrix products at once? (result has shape (n,1)) (★★★)**"
   ]
  },
  {
   "cell_type": "code",
   "execution_count": 145,
   "metadata": {},
   "outputs": [
    {
     "name": "stdout",
     "output_type": "stream",
     "text": [
      "[[200.]\n",
      " [200.]\n",
      " [200.]\n",
      " [200.]\n",
      " [200.]\n",
      " [200.]\n",
      " [200.]\n",
      " [200.]\n",
      " [200.]\n",
      " [200.]\n",
      " [200.]\n",
      " [200.]\n",
      " [200.]\n",
      " [200.]\n",
      " [200.]\n",
      " [200.]\n",
      " [200.]\n",
      " [200.]\n",
      " [200.]\n",
      " [200.]]\n"
     ]
    }
   ],
   "source": [
    "p, n = 10, 20\n",
    "M = np.ones((p,n,n))\n",
    "V = np.ones((p,n,1))\n",
    "S = np.tensordot(M, V, axes=[[0, 2], [0, 1]])\n",
    "print(S)"
   ]
  },
  {
   "cell_type": "markdown",
   "metadata": {},
   "source": [
    "**87. Consider a 16x16 array, how to get the block-sum (block size is 4x4)? (★★★)**"
   ]
  },
  {
   "cell_type": "code",
   "execution_count": 146,
   "metadata": {},
   "outputs": [
    {
     "name": "stdout",
     "output_type": "stream",
     "text": [
      "[[16. 16. 16. 16.]\n",
      " [16. 16. 16. 16.]\n",
      " [16. 16. 16. 16.]\n",
      " [16. 16. 16. 16.]]\n"
     ]
    }
   ],
   "source": [
    "Z = np.ones((16,16))\n",
    "k = 4\n",
    "S = np.add.reduceat(np.add.reduceat(Z, np.arange(0, Z.shape[0], k), axis=0),\n",
    "                                       np.arange(0, Z.shape[1], k), axis=1)\n",
    "print(S)"
   ]
  },
  {
   "cell_type": "markdown",
   "metadata": {},
   "source": [
    "**88. How to implement the Game of Life using numpy arrays? (★★★)**"
   ]
  },
  {
   "cell_type": "code",
   "execution_count": 147,
   "metadata": {},
   "outputs": [
    {
     "name": "stdout",
     "output_type": "stream",
     "text": [
      "[[0 0 0 ... 0 0 0]\n",
      " [0 0 0 ... 0 0 0]\n",
      " [0 0 0 ... 0 0 0]\n",
      " ...\n",
      " [0 0 0 ... 0 0 0]\n",
      " [0 0 0 ... 0 0 0]\n",
      " [0 0 0 ... 0 0 0]]\n"
     ]
    }
   ],
   "source": [
    "def iterate(Z):\n",
    "    # Count neighbours\n",
    "    N = (Z[0:-2,0:-2] + Z[0:-2,1:-1] + Z[0:-2,2:] +\n",
    "         Z[1:-1,0:-2]                + Z[1:-1,2:] +\n",
    "         Z[2:  ,0:-2] + Z[2:  ,1:-1] + Z[2:  ,2:])\n",
    "\n",
    "    # Apply rules\n",
    "    birth = (N==3) & (Z[1:-1,1:-1]==0)\n",
    "    survive = ((N==2) | (N==3)) & (Z[1:-1,1:-1]==1)\n",
    "    Z[...] = 0\n",
    "    Z[1:-1,1:-1][birth | survive] = 1\n",
    "    return Z\n",
    "\n",
    "Z = np.random.randint(0,2,(50,50))\n",
    "for i in range(100): Z = iterate(Z)\n",
    "print(Z)"
   ]
  },
  {
   "cell_type": "markdown",
   "metadata": {},
   "source": [
    "**89. How to get the n largest values of an array (★★★)**"
   ]
  },
  {
   "cell_type": "code",
   "execution_count": 149,
   "metadata": {},
   "outputs": [
    {
     "name": "stdout",
     "output_type": "stream",
     "text": [
      "[9995 9996 9997 9998 9999]\n",
      "[9999 9998 9997 9996 9995]\n"
     ]
    }
   ],
   "source": [
    "Z = np.arange(10000)\n",
    "np.random.shuffle(Z)\n",
    "n = 5\n",
    "\n",
    "print (Z[np.argsort(Z)[-n:]])\n",
    "print (Z[np.argpartition(-Z,n)[:n]])"
   ]
  },
  {
   "cell_type": "markdown",
   "metadata": {},
   "source": [
    "**90. Given an arbitrary number of vectors, build the cartesian product (every combinations of every item) (★★★)**"
   ]
  },
  {
   "cell_type": "code",
   "execution_count": 150,
   "metadata": {},
   "outputs": [
    {
     "name": "stdout",
     "output_type": "stream",
     "text": [
      "[[1 4 6]\n",
      " [1 4 7]\n",
      " [1 5 6]\n",
      " [1 5 7]\n",
      " [2 4 6]\n",
      " [2 4 7]\n",
      " [2 5 6]\n",
      " [2 5 7]\n",
      " [3 4 6]\n",
      " [3 4 7]\n",
      " [3 5 6]\n",
      " [3 5 7]]\n"
     ]
    }
   ],
   "source": [
    "def cartesian(arrays):\n",
    "    arrays = [np.asarray(a) for a in arrays]\n",
    "    shape = (len(x) for x in arrays)\n",
    "\n",
    "    ix = np.indices(shape, dtype=int)\n",
    "    ix = ix.reshape(len(arrays), -1).T\n",
    "\n",
    "    for n, arr in enumerate(arrays):\n",
    "        ix[:, n] = arrays[n][ix[:, n]]\n",
    "\n",
    "    return ix\n",
    "\n",
    "print (cartesian(([1, 2, 3], [4, 5], [6, 7])))"
   ]
  },
  {
   "cell_type": "markdown",
   "metadata": {},
   "source": [
    "**91. How to create a record array from a regular array? (★★★)**"
   ]
  },
  {
   "cell_type": "code",
   "execution_count": 151,
   "metadata": {},
   "outputs": [
    {
     "name": "stdout",
     "output_type": "stream",
     "text": [
      "[(b'Hello', 2.5, 3) (b'World', 3.6, 2)]\n"
     ]
    }
   ],
   "source": [
    "Z = np.array([(\"Hello\", 2.5, 3),\n",
    "              (\"World\", 3.6, 2)])\n",
    "R = np.core.records.fromarrays(Z.T,\n",
    "                               names='col1, col2, col3',\n",
    "                               formats = 'S8, f8, i8')\n",
    "print(R)"
   ]
  },
  {
   "cell_type": "markdown",
   "metadata": {},
   "source": [
    "**92. Consider a large vector Z, compute Z to the power of 3 using 3 different methods (★★★)**"
   ]
  },
  {
   "cell_type": "code",
   "execution_count": 153,
   "metadata": {},
   "outputs": [
    {
     "name": "stdout",
     "output_type": "stream",
     "text": [
      "4.72 s ± 139 ms per loop (mean ± std. dev. of 7 runs, 1 loop each)\n",
      "326 ms ± 68.5 ms per loop (mean ± std. dev. of 7 runs, 1 loop each)\n",
      "318 ms ± 34.4 ms per loop (mean ± std. dev. of 7 runs, 1 loop each)\n",
      "[0.20789502 0.39865087 0.40400346 ... 0.09752201 0.23517916 0.36163048]\n"
     ]
    }
   ],
   "source": [
    "x = np.random.rand(int(5e7))\n",
    "\n",
    "%timeit np.power(x,3)\n",
    "%timeit x*x*x\n",
    "%timeit np.einsum('i,i,i->i',x,x,x)\n",
    "print(x)"
   ]
  },
  {
   "cell_type": "markdown",
   "metadata": {},
   "source": [
    "**93. Consider two arrays A and B of shape (8,3) and (2,2). How to find rows of A that contain elements of each row of\n",
    "B regardless of the order of the elements in B? (★★★)**"
   ]
  },
  {
   "cell_type": "code",
   "execution_count": 154,
   "metadata": {},
   "outputs": [
    {
     "name": "stdout",
     "output_type": "stream",
     "text": [
      "[1 3 4 6 7]\n"
     ]
    }
   ],
   "source": [
    "A = np.random.randint(0,5,(8,3))\n",
    "B = np.random.randint(0,5,(2,2))\n",
    "\n",
    "C = (A[..., np.newaxis, np.newaxis] == B)\n",
    "rows = np.where(C.any((3,1)).all(1))[0]\n",
    "print(rows)"
   ]
  },
  {
   "cell_type": "markdown",
   "metadata": {},
   "source": [
    "**94. Considering a 10x3 matrix, extract rows with unequal values (e.g. [2,2,3]) (★★★)**"
   ]
  },
  {
   "cell_type": "code",
   "execution_count": 155,
   "metadata": {},
   "outputs": [
    {
     "name": "stdout",
     "output_type": "stream",
     "text": [
      "[[4 2 1]\n",
      " [1 4 0]\n",
      " [2 1 2]\n",
      " [0 2 0]\n",
      " [3 2 2]\n",
      " [4 1 0]\n",
      " [4 4 1]\n",
      " [3 3 3]\n",
      " [2 2 4]\n",
      " [2 2 2]]\n",
      "[[4 2 1]\n",
      " [1 4 0]\n",
      " [2 1 2]\n",
      " [0 2 0]\n",
      " [3 2 2]\n",
      " [4 1 0]\n",
      " [4 4 1]\n",
      " [2 2 4]]\n",
      "[[4 2 1]\n",
      " [1 4 0]\n",
      " [2 1 2]\n",
      " [0 2 0]\n",
      " [3 2 2]\n",
      " [4 1 0]\n",
      " [4 4 1]\n",
      " [2 2 4]]\n"
     ]
    }
   ],
   "source": [
    "Z = np.random.randint(0,5,(10,3))\n",
    "print(Z)\n",
    "# solution for arrays of all dtypes (including string arrays and record arrays)\n",
    "E = np.all(Z[:,1:] == Z[:,:-1], axis=1)\n",
    "U = Z[~E]\n",
    "print(U)\n",
    "# soluiton for numerical arrays only, will work for any number of columns in Z\n",
    "U = Z[Z.max(axis=1) != Z.min(axis=1),:]\n",
    "print(U)"
   ]
  },
  {
   "cell_type": "markdown",
   "metadata": {},
   "source": [
    "**95. Convert a vector of ints into a matrix binary representation (★★★)**"
   ]
  },
  {
   "cell_type": "code",
   "execution_count": 156,
   "metadata": {},
   "outputs": [
    {
     "name": "stdout",
     "output_type": "stream",
     "text": [
      "[[0 0 0 0 0 0 0 0]\n",
      " [0 0 0 0 0 0 0 1]\n",
      " [0 0 0 0 0 0 1 0]\n",
      " [0 0 0 0 0 0 1 1]\n",
      " [0 0 0 0 1 1 1 1]\n",
      " [0 0 0 1 0 0 0 0]\n",
      " [0 0 1 0 0 0 0 0]\n",
      " [0 1 0 0 0 0 0 0]\n",
      " [1 0 0 0 0 0 0 0]]\n",
      "[[0 0 0 0 0 0 0 0]\n",
      " [0 0 0 0 0 0 0 1]\n",
      " [0 0 0 0 0 0 1 0]\n",
      " [0 0 0 0 0 0 1 1]\n",
      " [0 0 0 0 1 1 1 1]\n",
      " [0 0 0 1 0 0 0 0]\n",
      " [0 0 1 0 0 0 0 0]\n",
      " [0 1 0 0 0 0 0 0]\n",
      " [1 0 0 0 0 0 0 0]]\n"
     ]
    }
   ],
   "source": [
    "I = np.array([0, 1, 2, 3, 15, 16, 32, 64, 128])\n",
    "B = ((I.reshape(-1,1) & (2**np.arange(8))) != 0).astype(int)\n",
    "print(B[:,::-1])\n",
    "\n",
    "# Author: Daniel T. McDonald\n",
    "\n",
    "I = np.array([0, 1, 2, 3, 15, 16, 32, 64, 128], dtype=np.uint8)\n",
    "print(np.unpackbits(I[:, np.newaxis], axis=1))"
   ]
  },
  {
   "cell_type": "markdown",
   "metadata": {},
   "source": [
    "**96. Given a two dimensional array, how to extract unique rows? (★★★)**"
   ]
  },
  {
   "cell_type": "code",
   "execution_count": 157,
   "metadata": {},
   "outputs": [
    {
     "name": "stdout",
     "output_type": "stream",
     "text": [
      "[[0 0 0]\n",
      " [0 0 1]\n",
      " [1 0 1]\n",
      " [1 1 0]\n",
      " [1 1 1]]\n",
      "[[0 0 0]\n",
      " [0 0 1]\n",
      " [1 0 1]\n",
      " [1 1 0]\n",
      " [1 1 1]]\n"
     ]
    }
   ],
   "source": [
    "Z = np.random.randint(0,2,(6,3))\n",
    "T = np.ascontiguousarray(Z).view(np.dtype((np.void, Z.dtype.itemsize * Z.shape[1])))\n",
    "_, idx = np.unique(T, return_index=True)\n",
    "uZ = Z[idx]\n",
    "print(uZ)\n",
    "\n",
    "# Author: Andreas Kouzelis\n",
    "# NumPy >= 1.13\n",
    "uZ = np.unique(Z, axis=0)\n",
    "print(uZ)"
   ]
  },
  {
   "cell_type": "markdown",
   "metadata": {},
   "source": [
    "**97. Considering 2 vectors A & B, write the einsum equivalent of inner, outer, sum, and mul function (★★★)**"
   ]
  },
  {
   "cell_type": "code",
   "execution_count": 158,
   "metadata": {},
   "outputs": [
    {
     "data": {
      "text/plain": [
       "array([[0.04031167, 0.02998971, 0.05061932, 0.02327427, 0.04404887,\n",
       "        0.03445707, 0.02844818, 0.02206715, 0.00648537, 0.02851498],\n",
       "       [0.59986338, 0.44626608, 0.7532478 , 0.34633598, 0.65547536,\n",
       "        0.51274329, 0.42332708, 0.32837336, 0.09650639, 0.42432115],\n",
       "       [0.59906935, 0.44567536, 0.75225074, 0.34587753, 0.65460772,\n",
       "        0.51206458, 0.42276673, 0.3279387 , 0.09637865, 0.42375948],\n",
       "       [0.08811637, 0.06555384, 0.11064764, 0.0508747 , 0.09628544,\n",
       "        0.07531895, 0.06218424, 0.0482361 , 0.01417622, 0.06233026],\n",
       "       [0.22005428, 0.16370855, 0.27632193, 0.12705012, 0.24045502,\n",
       "        0.18809509, 0.15529359, 0.1204607 , 0.03540247, 0.15565825],\n",
       "       [0.35703997, 0.26561853, 0.44833471, 0.20613992, 0.39014035,\n",
       "        0.30518591, 0.25196519, 0.19544853, 0.05744081, 0.25255686],\n",
       "       [0.16737135, 0.12451528, 0.21016802, 0.0966332 , 0.18288797,\n",
       "        0.14306347, 0.11811494, 0.09162135, 0.02692681, 0.1183923 ],\n",
       "       [0.13113424, 0.09755682, 0.16466513, 0.07571142, 0.14329141,\n",
       "        0.1120892 , 0.0925422 , 0.07178467, 0.02109696, 0.09275951],\n",
       "       [0.39839482, 0.29638431, 0.50026395, 0.23001647, 0.43532911,\n",
       "        0.34053466, 0.28114954, 0.21808674, 0.06409401, 0.28180975],\n",
       "       [0.63859363, 0.4750793 , 0.80188134, 0.3686972 , 0.69779621,\n",
       "        0.54584862, 0.45065924, 0.34957483, 0.10273734, 0.4517175 ]])"
      ]
     },
     "execution_count": 158,
     "metadata": {},
     "output_type": "execute_result"
    }
   ],
   "source": [
    "A = np.random.uniform(0,1,10)\n",
    "B = np.random.uniform(0,1,10)\n",
    "\n",
    "np.einsum('i->', A)       # np.sum(A)\n",
    "np.einsum('i,i->i', A, B) # A * B\n",
    "np.einsum('i,i', A, B)    # np.inner(A, B)\n",
    "np.einsum('i,j->ij', A, B)    # np.outer(A, B)"
   ]
  },
  {
   "cell_type": "markdown",
   "metadata": {},
   "source": [
    "**98. Considering a path described by two vectors (X,Y), how to sample it using equidistant samples (★★★)**"
   ]
  },
  {
   "cell_type": "code",
   "execution_count": 159,
   "metadata": {},
   "outputs": [],
   "source": [
    "phi = np.arange(0, 10*np.pi, 0.1)\n",
    "a = 1\n",
    "x = a*phi*np.cos(phi)\n",
    "y = a*phi*np.sin(phi)\n",
    "\n",
    "dr = (np.diff(x)**2 + np.diff(y)**2)**.5 # segment lengths\n",
    "r = np.zeros_like(x)\n",
    "r[1:] = np.cumsum(dr)                # integrate path\n",
    "r_int = np.linspace(0, r.max(), 200) # regular spaced path\n",
    "x_int = np.interp(r_int, r, x)       # integrate path\n",
    "y_int = np.interp(r_int, r, y)"
   ]
  },
  {
   "cell_type": "markdown",
   "metadata": {},
   "source": [
    "**99. Given an integer n and a 2D array X, select from X the rows which can be interpreted as draws from a\n",
    "multinomial distribution with n degrees, i.e., the rows which only contain integers and which sum to n. (★★★)**"
   ]
  },
  {
   "cell_type": "code",
   "execution_count": 160,
   "metadata": {},
   "outputs": [
    {
     "name": "stdout",
     "output_type": "stream",
     "text": [
      "[[2. 0. 1. 1.]]\n"
     ]
    }
   ],
   "source": [
    "X = np.asarray([[1.0, 0.0, 3.0, 8.0],\n",
    "                [2.0, 0.0, 1.0, 1.0],\n",
    "                [1.5, 2.5, 1.0, 0.0]])\n",
    "n = 4\n",
    "M = np.logical_and.reduce(np.mod(X, 1) == 0, axis=-1)\n",
    "M &= (X.sum(axis=-1) == n)\n",
    "print(X[M])"
   ]
  },
  {
   "cell_type": "markdown",
   "metadata": {},
   "source": [
    "**100. Compute bootstrapped 95% confidence intervals for the mean of a 1D array X (i.e., resample the elements of an\n",
    "array with replacement N times, compute the mean of each sample, and then compute percentiles over the means).\n",
    "(★★★)**"
   ]
  },
  {
   "cell_type": "code",
   "execution_count": 161,
   "metadata": {},
   "outputs": [
    {
     "name": "stdout",
     "output_type": "stream",
     "text": [
      "[-0.12947334  0.19948795]\n"
     ]
    }
   ],
   "source": [
    "X = np.random.randn(100) # random 1D array\n",
    "N = 1000 # number of bootstrap samples\n",
    "idx = np.random.randint(0, X.size, (N, X.size))\n",
    "means = X[idx].mean(axis=1)\n",
    "confint = np.percentile(means, [2.5, 97.5])\n",
    "print(confint)"
   ]
  },
  {
   "cell_type": "markdown",
   "metadata": {},
   "source": [
    "**OBS:** Algumas respostas não foram criadas por mim. Rodei o código para entender o exercício mesmo assim.\n",
    "\n",
    "Referências: \n",
    "\n",
    "<https://github.com/rougier/numpy-100/blob/master/100_Numpy_exercises.md>"
   ]
  }
 ],
 "metadata": {
  "kernelspec": {
   "display_name": "Python 3",
   "language": "python",
   "name": "python3"
  },
  "language_info": {
   "codemirror_mode": {
    "name": "ipython",
    "version": 3
   },
   "file_extension": ".py",
   "mimetype": "text/x-python",
   "name": "python",
   "nbconvert_exporter": "python",
   "pygments_lexer": "ipython3",
   "version": "3.7.3"
  }
 },
 "nbformat": 4,
 "nbformat_minor": 2
}
