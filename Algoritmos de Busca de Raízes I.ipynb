{
 "cells": [
  {
   "cell_type": "code",
   "execution_count": 143,
   "metadata": {},
   "outputs": [],
   "source": [
    "import scipy\n",
    "import numpy as np\n",
    "import scipy.optimize as opt\n",
    "import matplotlib.pyplot as plt\n",
    "import sys\n",
    "import warnings\n",
    "warnings.filterwarnings('ignore')\n",
    "%matplotlib inline"
   ]
  },
  {
   "cell_type": "markdown",
   "metadata": {},
   "source": [
    "**5.1**"
   ]
  },
  {
   "cell_type": "code",
   "execution_count": 162,
   "metadata": {},
   "outputs": [
    {
     "data": {
      "image/png": "[encoded data removed]",
      "text/plain": [
       "<Figure size 432x288 with 1 Axes>"
      ]
     },
     "metadata": {
      "needs_background": "light"
     },
     "output_type": "display_data"
    }
   ],
   "source": [
    "v = 36.0\n",
    "cd = 0.25\n",
    "g = 9.81\n",
    "t = 4\n",
    "m = np.linspace(50,200)\n",
    "\n",
    "fm = np.sqrt(g*m/cd)*np.tanh(np.sqrt(g*cd/m)*t) - v\n",
    "plt.plot(m, fm)\n",
    "plt.grid(color='gray', linestyle='-', linewidth=0.3)"
   ]
  },
  {
   "cell_type": "code",
   "execution_count": 180,
   "metadata": {},
   "outputs": [],
   "source": [
    "def bissecao(f, a, b, TOL, N):  \n",
    "    i = 1  \n",
    "    fa = f(a)  \n",
    "    while (i <= N):  \n",
    "        \n",
    "        #iteracao da bissecao  \n",
    "        p = a + (b-a)/2  \n",
    "        fp = f(p)  \n",
    "        \n",
    "        #condicao de parada  \n",
    "        if ((fp == 0) or ((b-a)/2 < TOL)):  \n",
    "            return p, i  \n",
    "        \n",
    "        #bissecta o intervalo  \n",
    "        i = i+1  \n",
    "        if (fa * fp > 0):  \n",
    "            a = p  \n",
    "            fa = fp  \n",
    "        else:  \n",
    "            b = p  \n",
    " \n",
    "    return \"Num. max. de iter. excedido!\""
   ]
  },
  {
   "cell_type": "code",
   "execution_count": 145,
   "metadata": {},
   "outputs": [
    {
     "data": {
      "text/plain": [
       "      converged: True\n",
       "           flag: 'converged'\n",
       " function_calls: 12\n",
       "     iterations: 10\n",
       "           root: 0.13896484375"
      ]
     },
     "execution_count": 145,
     "metadata": {},
     "output_type": "execute_result"
    }
   ],
   "source": [
    "def bissec(f, xl, xu, stop):\n",
    "    return opt.root_scalar(f,method='bisect',bracket=[xl,xu], rtol = stop) \n",
    "    \n",
    "\n",
    "def func(cd):\n",
    "    v = 36.0\n",
    "    g = 9.81\n",
    "    t = 4\n",
    "    m = 80\n",
    "    return np.sqrt(g*m/cd)*np.tanh(np.sqrt(g*cd/m)*t) - v\n",
    "\n",
    "\n",
    "bissec(func, xl=0.1, xu=2.0, stop=0.02)\n"
   ]
  },
  {
   "cell_type": "markdown",
   "metadata": {},
   "source": [
    "**5.5**"
   ]
  },
  {
   "cell_type": "code",
   "execution_count": 146,
   "metadata": {},
   "outputs": [
    {
     "name": "stdout",
     "output_type": "stream",
     "text": [
      "      converged: True\n",
      "           flag: 'converged'\n",
      " function_calls: 9\n",
      "     iterations: 7\n",
      "           root: -0.4140625 \n",
      "\n"
     ]
    },
    {
     "data": {
      "image/png": "[encoded data removed]",
      "text/plain": [
       "<Figure size 432x288 with 1 Axes>"
      ]
     },
     "metadata": {
      "needs_background": "light"
     },
     "output_type": "display_data"
    }
   ],
   "source": [
    "def g(x):\n",
    "    return -12 - 21*x + 18*x**2 - 2.75*x**3\n",
    "\n",
    "# a)\n",
    "\n",
    "\n",
    "x = np.linspace(-2, 6, 1000)\n",
    "plt.plot(x, g(x))\n",
    "plt.grid(color='gray', linestyle='-', linewidth=0.3)\n",
    "\n",
    "\n",
    "print(bissec(g, -1, 0, 0.02), \"\\n\")"
   ]
  },
  {
   "cell_type": "code",
   "execution_count": 147,
   "metadata": {},
   "outputs": [],
   "source": [
    "def falsaPosicao(f, xl, xu, stop):\n",
    "    \n",
    "    it = 0\n",
    "    \n",
    "    while(1):\n",
    "        \n",
    "        xr = xu - ( f(xu)*(xl - xu)/ (f(xl) - f(xu)) )\n",
    "        erro = abs( (xr-xu)/xr*100 )\n",
    "        it += 1\n",
    "        \n",
    "        if erro <= stop:\n",
    "            break\n",
    "        \n",
    "        if (f(xl) * f(xr)) > 0:\n",
    "            \n",
    "            xl = xr\n",
    "\n",
    "        else: \n",
    "            xu = xr\n",
    "            \n",
    "        \n",
    "    return xr, it"
   ]
  },
  {
   "cell_type": "code",
   "execution_count": 148,
   "metadata": {},
   "outputs": [
    {
     "data": {
      "text/plain": [
       "(-0.4146769490926815, 8)"
      ]
     },
     "execution_count": 148,
     "metadata": {},
     "output_type": "execute_result"
    }
   ],
   "source": [
    "falsaPosicao(g, -1, 0, 0.01)"
   ]
  },
  {
   "cell_type": "markdown",
   "metadata": {},
   "source": [
    "**5.8**"
   ]
  },
  {
   "cell_type": "code",
   "execution_count": 181,
   "metadata": {},
   "outputs": [
    {
     "data": {
      "text/plain": [
       "(0.9921875, 8)"
      ]
     },
     "execution_count": 181,
     "metadata": {},
     "output_type": "execute_result"
    },
    {
     "data": {
      "image/png": "[encoded data removed]",
      "text/plain": [
       "<Figure size 432x288 with 1 Axes>"
      ]
     },
     "metadata": {
      "needs_background": "light"
     },
     "output_type": "display_data"
    }
   ],
   "source": [
    "def h(t):\n",
    "    ta = 273.15 + t\n",
    "    sf = -139.34411 + (1.575701 *10**5/ta) - (6.642308*10**7/ta**2) + (1.243800*10**10/ta**3)-(8.621949*10**11/ta**4)\n",
    "    return np.log(sf)\n",
    "\n",
    "t = np.linspace(-5, 35, 1000)\n",
    "plt.plot(t, h(t))\n",
    "plt.grid(color='gray', linestyle='-', linewidth=0.3)\n",
    "\n",
    "bissecao(h, -1, 1, 0.01, 100)"
   ]
  },
  {
   "cell_type": "markdown",
   "metadata": {},
   "source": [
    "**São necessárias 8 interações**"
   ]
  },
  {
   "cell_type": "code",
   "execution_count": 150,
   "metadata": {},
   "outputs": [],
   "source": [
    "def j(y):\n",
    "    Q = 20\n",
    "    g = 9.81\n",
    "    B = 3 + y\n",
    "    A = 3*y + (y**2)/2\n",
    "    return 1 - ((Q**2)/(g*A**3))*B"
   ]
  },
  {
   "cell_type": "code",
   "execution_count": 151,
   "metadata": {},
   "outputs": [
    {
     "data": {
      "text/plain": [
       "[<matplotlib.lines.Line2D at 0x7f2a9a24b438>]"
      ]
     },
     "execution_count": 151,
     "metadata": {},
     "output_type": "execute_result"
    },
    {
     "data": {
      "image/png": "[encoded data removed]",
      "text/plain": [
       "<Figure size 432x288 with 1 Axes>"
      ]
     },
     "metadata": {
      "needs_background": "light"
     },
     "output_type": "display_data"
    }
   ],
   "source": [
    "y = np.linspace(0.5, 2.5, 1000)\n",
    "plt.grid(color='gray', linestyle='-', linewidth=0.3) \n",
    "plt.plot(y, j(y))"
   ]
  },
  {
   "cell_type": "code",
   "execution_count": 152,
   "metadata": {},
   "outputs": [
    {
     "data": {
      "text/plain": [
       "      converged: True\n",
       "           flag: 'converged'\n",
       " function_calls: 10\n",
       "     iterations: 8\n",
       "           root: 1.5078125"
      ]
     },
     "execution_count": 152,
     "metadata": {},
     "output_type": "execute_result"
    }
   ],
   "source": [
    "bissec(j, 0.5, 2.5, 0.01)"
   ]
  },
  {
   "cell_type": "code",
   "execution_count": 153,
   "metadata": {},
   "outputs": [
    {
     "name": "stdout",
     "output_type": "stream",
     "text": [
      "(1.516106735668653, 94)\n",
      "(2.0907660676945174, 10)\n"
     ]
    }
   ],
   "source": [
    "def falsaPosicao10(f, xl, xu, stop ):\n",
    "    \n",
    "    it = 0\n",
    "    \n",
    "    while(1):\n",
    "        \n",
    "        xr = xu - ( f(xu)*(xl - xu)/ (f(xl) - f(xu)) )\n",
    "        erro = abs( (xr-xu)/xr*100 )\n",
    "        it += 1\n",
    "        \n",
    "        if erro <= stop or it == 10:\n",
    "            break\n",
    "        \n",
    "        if (f(xl) * f(xr)) > 0:\n",
    "            \n",
    "            xl = xr\n",
    "\n",
    "        else: \n",
    "            xu = xr\n",
    "            \n",
    "        \n",
    "    return xr, it\n",
    "\n",
    "print(falsaPosicao(j, 0.5, 2.5, 0.01))\n",
    "print(falsaPosicao10(j, 0.5, 2.5, 0.01))"
   ]
  },
  {
   "cell_type": "markdown",
   "metadata": {},
   "source": [
    "1. Usando o metodo gráfico com grade é possivel observar a raíz está próxima de 1.5 \n",
    "2. Usando o metodo bissec chegamos na resposta com apenas 8 iterações\n",
    "3. Usando o metodo da falsa posição chegamos praticamente no mesmo resultado com 94 iterações. Se limitarmos a função a 10 iterações possui um erro de aproximadamente 0.5 em módulo"
   ]
  }
 ],
 "metadata": {
  "kernelspec": {
   "display_name": "Python 3",
   "language": "python",
   "name": "python3"
  },
  "language_info": {
   "codemirror_mode": {
    "name": "ipython",
    "version": 3
   },
   "file_extension": ".py",
   "mimetype": "text/x-python",
   "name": "python",
   "nbconvert_exporter": "python",
   "pygments_lexer": "ipython3",
   "version": "3.7.3"
  }
 },
 "nbformat": 4,
 "nbformat_minor": 2
}
