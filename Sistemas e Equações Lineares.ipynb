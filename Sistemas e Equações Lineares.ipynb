{
 "cells": [
  {
   "cell_type": "markdown",
   "metadata": {},
   "source": [
    "## Métodos Numéricos\n",
    "#### Rafael Guimarães\n",
    "#### Sistemas e Equações Lineares"
   ]
  },
  {
   "cell_type": "code",
   "execution_count": 6,
   "metadata": {},
   "outputs": [],
   "source": [
    "import scipy.linalg as sla\n",
    "import numpy as np"
   ]
  },
  {
   "cell_type": "markdown",
   "metadata": {},
   "source": [
    "**Exercício 1.** Verifique, refazendo o exemplo acima, se a equação da substituição retroativa, descrita na equação 20, de fato funciona."
   ]
  },
  {
   "cell_type": "code",
   "execution_count": 7,
   "metadata": {},
   "outputs": [],
   "source": [
    "A = np.array([[3, 4, -5, 1],[0, 1, 1, -2],[0, 0, 4, -5],[0, 0, 0, 2]])\n",
    "B = np.array([-10, -1, 3, 2])"
   ]
  },
  {
   "cell_type": "code",
   "execution_count": 8,
   "metadata": {},
   "outputs": [],
   "source": [
    "x = sla.solve_triangular(A,B)"
   ]
  },
  {
   "cell_type": "code",
   "execution_count": 9,
   "metadata": {},
   "outputs": [
    {
     "data": {
      "text/plain": [
       "array([ 1., -1.,  2.,  1.])"
      ]
     },
     "execution_count": 9,
     "metadata": {},
     "output_type": "execute_result"
    }
   ],
   "source": [
    "x"
   ]
  },
  {
   "cell_type": "markdown",
   "metadata": {},
   "source": [
    "**Exercício 2.** Faça um programa em Python que calcule a solução de um sistema\n",
    "triangular superior usando substituição retroativa. Para representação das matrizes e\n",
    "vetores use exclusivamente Numpy"
   ]
  },
  {
   "cell_type": "code",
   "execution_count": 56,
   "metadata": {},
   "outputs": [],
   "source": [
    "def solveSuperiorLinearEquation(a, b):\n",
    "    \n",
    "    n = np.size(b)\n",
    "    x = np.zeros(n)\n",
    "    \n",
    "    for i in range(n-1, -1, -1):\n",
    "        soma = 0\n",
    "        for j in range(i+1, n):\n",
    "            soma += a[i][j]*x[j] \n",
    "        \n",
    "        x[i] = (b[i] - soma)/ a[i][i]\n",
    "    return x"
   ]
  },
  {
   "cell_type": "code",
   "execution_count": 57,
   "metadata": {},
   "outputs": [
    {
     "data": {
      "text/plain": [
       "array([ 1., -1.,  2.,  1.])"
      ]
     },
     "execution_count": 57,
     "metadata": {},
     "output_type": "execute_result"
    }
   ],
   "source": [
    "solveSuperiorLinearEquation(A, B)"
   ]
  },
  {
   "cell_type": "markdown",
   "metadata": {},
   "source": [
    "**Exercício 3.** Faça um programa em Python que calcule a solução de um sistema\n",
    "triangular inferior usando substituição progressiva. Para representação das matrizes e\n",
    "vetores use exclusivamente Numpy."
   ]
  },
  {
   "cell_type": "code",
   "execution_count": 78,
   "metadata": {},
   "outputs": [],
   "source": [
    "def solveInferiorLinearEquation(a, b):\n",
    "    n = np.size(b)\n",
    "    x = np.zeros(n)\n",
    "    for i in range(n):\n",
    "        soma = 0\n",
    "        for j in range(n-1, -1, -1):\n",
    "            soma += a[i][j]*x[j] \n",
    "        \n",
    "        x[i] = (b[i] - soma)/ a[i][i]\n",
    "    return x"
   ]
  },
  {
   "cell_type": "code",
   "execution_count": 79,
   "metadata": {},
   "outputs": [],
   "source": [
    "A2 = np.array([[3, 0, 0, 0], [2, 1, 0, 0], [1, 0, 1, 0], [1, 1, 1, 1]])\n",
    "b2 = np.array([4, 2, 4, 2])"
   ]
  },
  {
   "cell_type": "code",
   "execution_count": 82,
   "metadata": {},
   "outputs": [
    {
     "data": {
      "text/plain": [
       "array([ 1.33333333, -0.66666667,  2.66666667, -1.33333333])"
      ]
     },
     "execution_count": 82,
     "metadata": {},
     "output_type": "execute_result"
    }
   ],
   "source": [
    "solveInferiorLinearEquation(A2, b2)"
   ]
  },
  {
   "cell_type": "code",
   "execution_count": 87,
   "metadata": {},
   "outputs": [],
   "source": [
    "def elimin_gaussiana(a,b,imp = False, norma='inf'):\n",
    "\n",
    "    import numpy as np #colocadas aqui para evitar problemas de namespace\n",
    "    import scipy.linalg as sla #colocadas aqui para evitar problemas de namespace\n",
    "    #matriz estendida Me\n",
    "    b = np.mat(b).T\n",
    "    Me = np.concatenate((a,b), axis=1)\n",
    "    if imp: print('Matriz estendida: \\n',Me,'\\n\\n')\n",
    "    if imp: print('='*80)\n",
    "    for j in range(Me.shape[-1] - 2): #coluna\n",
    "        if imp: print('Operação na coluna', j)\n",
    "        if imp: print('='*80, '\\n\\n')\n",
    "        for i in range(j+1, Me.shape[0]): #linha\n",
    "            Me[i] = Me[i] - (Me[i,j]/Me[j,j])*Me[j] #operações com cada linha\n",
    "            if imp: print('Operação na linha', i, ':',Me[i], '\\n')\n",
    "            if imp: print('Matriz escalonando: \\n',Me,'\\n')\n",
    "        if imp: print('='*80)\n",
    "    if imp: print('\\nMatriz escalonada: \\n',Me,'\\n')\n",
    "    Matriz_A = np.delete(Me, -1, axis=1) #matriz de coeficientes escalonada\n",
    "    Vetor_b = Me[:,-1] #matriz de termos independentes escalonada\n",
    "    Vetor_x = sla.solve_triangular(Matriz_A, Vetor_b) # solução do sistema escalona\n",
    "    if imp: print('='*80,'\\n\\nSolução do sistema: \\n', Vetor_x)\n",
    "    #verificação do erro do sistema\n",
    "    if norma is 'inf': norma = np.inf\n",
    "    if norma is '-inf': norma = -np.inf\n",
    "    Erro = sla.norm(b - a.dot(Vetor_x),ord = norma)\n",
    "    return (Matriz_A, Vetor_b, Vetor_x, Erro)\n"
   ]
  },
  {
   "cell_type": "code",
   "execution_count": 88,
   "metadata": {},
   "outputs": [],
   "source": [
    "A = np.array([[2, 3, -1], [4, 4, -3], [2, -3, 1]])\n",
    "b = np.array([5, 3, -1])"
   ]
  },
  {
   "cell_type": "code",
   "execution_count": 90,
   "metadata": {},
   "outputs": [
    {
     "name": "stdout",
     "output_type": "stream",
     "text": [
      "Matriz estendida: \n",
      " [[ 2  3 -1  5]\n",
      " [ 4  4 -3  3]\n",
      " [ 2 -3  1 -1]] \n",
      "\n",
      "\n",
      "================================================================================\n",
      "Operação na coluna 0\n",
      "================================================================================ \n",
      "\n",
      "\n",
      "Operação na linha 1 : [[ 0 -2 -1 -7]] \n",
      "\n",
      "Matriz escalonando: \n",
      " [[ 2  3 -1  5]\n",
      " [ 0 -2 -1 -7]\n",
      " [ 2 -3  1 -1]] \n",
      "\n",
      "Operação na linha 2 : [[ 0 -6  2 -6]] \n",
      "\n",
      "Matriz escalonando: \n",
      " [[ 2  3 -1  5]\n",
      " [ 0 -2 -1 -7]\n",
      " [ 0 -6  2 -6]] \n",
      "\n",
      "================================================================================\n",
      "Operação na coluna 1\n",
      "================================================================================ \n",
      "\n",
      "\n",
      "Operação na linha 2 : [[ 0  0  5 15]] \n",
      "\n",
      "Matriz escalonando: \n",
      " [[ 2  3 -1  5]\n",
      " [ 0 -2 -1 -7]\n",
      " [ 0  0  5 15]] \n",
      "\n",
      "================================================================================\n",
      "\n",
      "Matriz escalonada: \n",
      " [[ 2  3 -1  5]\n",
      " [ 0 -2 -1 -7]\n",
      " [ 0  0  5 15]] \n",
      "\n",
      "================================================================================ \n",
      "\n",
      "Solução do sistema: \n",
      " [[1.]\n",
      " [2.]\n",
      " [3.]]\n"
     ]
    },
    {
     "data": {
      "text/plain": [
       "(matrix([[ 2,  3, -1],\n",
       "         [ 0, -2, -1],\n",
       "         [ 0,  0,  5]]), matrix([[ 5],\n",
       "         [-7],\n",
       "         [15]]), array([[1.],\n",
       "        [2.],\n",
       "        [3.]]), 0.0)"
      ]
     },
     "execution_count": 90,
     "metadata": {},
     "output_type": "execute_result"
    }
   ],
   "source": [
    "elimin_gaussiana(A, b, True)"
   ]
  },
  {
   "cell_type": "code",
   "execution_count": 91,
   "metadata": {},
   "outputs": [],
   "source": [
    "import numpy as np\n",
    "import scipy.linalg as sla"
   ]
  },
  {
   "cell_type": "code",
   "execution_count": 92,
   "metadata": {},
   "outputs": [
    {
     "name": "stdout",
     "output_type": "stream",
     "text": [
      "Matriz estendida: \n",
      " [[ 2  3 -1  5]\n",
      " [ 4  4 -3  3]\n",
      " [ 2 -3  1 -1]] \n",
      "\n",
      "\n",
      "================================================================================\n",
      "Operação na coluna 0\n",
      "================================================================================ \n",
      "\n",
      "\n",
      "Operação na linha 1 : [[ 0 -2 -1 -7]] \n",
      "\n",
      "Matriz escalonando: \n",
      " [[ 2  3 -1  5]\n",
      " [ 0 -2 -1 -7]\n",
      " [ 2 -3  1 -1]] \n",
      "\n",
      "Operação na linha 2 : [[ 0 -6  2 -6]] \n",
      "\n",
      "Matriz escalonando: \n",
      " [[ 2  3 -1  5]\n",
      " [ 0 -2 -1 -7]\n",
      " [ 0 -6  2 -6]] \n",
      "\n",
      "================================================================================\n",
      "Operação na coluna 1\n",
      "================================================================================ \n",
      "\n",
      "\n",
      "Operação na linha 2 : [[ 0  0  5 15]] \n",
      "\n",
      "Matriz escalonando: \n",
      " [[ 2  3 -1  5]\n",
      " [ 0 -2 -1 -7]\n",
      " [ 0  0  5 15]] \n",
      "\n",
      "================================================================================\n",
      "\n",
      "Matriz escalonada: \n",
      " [[ 2  3 -1  5]\n",
      " [ 0 -2 -1 -7]\n",
      " [ 0  0  5 15]] \n",
      "\n",
      "================================================================================ \n",
      "\n",
      "Solução do sistema: \n",
      " [[1.]\n",
      " [2.]\n",
      " [3.]]\n"
     ]
    },
    {
     "data": {
      "text/plain": [
       "(matrix([[ 2,  3, -1],\n",
       "         [ 0, -2, -1],\n",
       "         [ 0,  0,  5]]), matrix([[ 5],\n",
       "         [-7],\n",
       "         [15]]), array([[1.],\n",
       "        [2.],\n",
       "        [3.]]), 0.0)"
      ]
     },
     "execution_count": 92,
     "metadata": {},
     "output_type": "execute_result"
    }
   ],
   "source": [
    "a = np.array([[2,3,-1],[4,4,-3],[2,-3,1]])\n",
    "b = np.array([5,3,-1])\n",
    "M = elimin_gaussiana(a,b)\n",
    "M"
   ]
  },
  {
   "cell_type": "code",
   "execution_count": null,
   "metadata": {},
   "outputs": [],
   "source": []
  }
 ],
 "metadata": {
  "kernelspec": {
   "display_name": "Python 3",
   "language": "python",
   "name": "python3"
  },
  "language_info": {
   "codemirror_mode": {
    "name": "ipython",
    "version": 3
   },
   "file_extension": ".py",
   "mimetype": "text/x-python",
   "name": "python",
   "nbconvert_exporter": "python",
   "pygments_lexer": "ipython3",
   "version": "3.7.3"
  }
 },
 "nbformat": 4,
 "nbformat_minor": 2
}
